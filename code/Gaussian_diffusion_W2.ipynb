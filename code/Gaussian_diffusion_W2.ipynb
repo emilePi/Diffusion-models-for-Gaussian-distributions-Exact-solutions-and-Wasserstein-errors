{
 "cells": [
  {
   "cell_type": "markdown",
   "id": "589d4ad7",
   "metadata": {
    "id": "589d4ad7"
   },
   "source": [
    "# _Diffusion models for Gaussian distributions: Exact solutions and Wasserstein errors_ [ [ 1 ] ](#ref1)"
   ]
  },
  {
   "cell_type": "markdown",
   "id": "b5f348cb",
   "metadata": {
    "id": "b5f348cb"
   },
   "source": [
    "The following code provides figures and table of the article [ [ 1 ] ](#ref1). You can use it with your own scheme and data."
   ]
  },
  {
   "cell_type": "markdown",
   "id": "3b848ee9",
   "metadata": {
    "id": "3b848ee9"
   },
   "source": [
    "### Reminders of the theory"
   ]
  },
  {
   "cell_type": "markdown",
   "id": "4ff05ff0",
   "metadata": {
    "id": "4ff05ff0"
   },
   "source": [
    "We consider the Variance preserving (VP) forward process:\n",
    "\n",
    "\\begin{equation}\n",
    "\\tag{1}\n",
    "d\\boldsymbol{x}_t  =-\\beta_t \\boldsymbol{x}_t dt + \\sqrt{2\\beta_t}d\\boldsymbol{w}_t, \\quad 0 \\leq t \\leq T, \\quad  \\boldsymbol{x}_0 \\sim p_\\text{data}\n",
    "\\end{equation}\n",
    "\n",
    "Supposing that $p_\\text{data} = \\mathcal{N}(\\boldsymbol{0},\\boldsymbol{I})$, the law of $\\boldsymbol{x}_t$ is $p_t = \\mathcal{N}(\\boldsymbol{0},\\boldsymbol{\\Sigma}_t)$ with\n",
    "\\begin{equation}\n",
    "\\tag{2}\n",
    "\\boldsymbol{\\Sigma}_t = e^{-2B_t}\\boldsymbol{\\Sigma} + (1-e^{-2B_t})\\boldsymbol{I}\n",
    "\\end{equation}\n",
    "\n",
    "where $B_t = \\int_0^t \\beta_u$ and consequently the score function verifies $\\nabla \\log p_t(\\boldsymbol{x}) = -\\boldsymbol{\\Sigma}^{-1}_t\\boldsymbol{x}$."
   ]
  },
  {
   "cell_type": "markdown",
   "id": "41401fa7",
   "metadata": {
    "id": "41401fa7"
   },
   "source": [
    "Furthermore, the backward process can be studied considering the backward SDE\n",
    "\n",
    "\\begin{equation}\n",
    "\\tag{3}\n",
    " d\\tilde{\\boldsymbol{y}}_t = \\beta_{T-t}(\\tilde{\\boldsymbol{y}}_t + 2\\nabla \\log p_{T-t}(\\tilde{\\boldsymbol{y}}_t))dt + \\sqrt{2\\beta_{T-t}}d\\boldsymbol{w}_t, \\quad0 \\leq t < T\n",
    "\\end{equation}\n",
    "\n",
    "or the reverse flow ODE:\n",
    "\n",
    " \\begin{equation}\n",
    " \\tag{4}\n",
    " \td\\widehat{\\boldsymbol{y}}_t = \\left[\\beta_{T-t}\\widehat{\\boldsymbol{y}}_t +\\beta_{T-t} \\nabla_{\\widehat{\\boldsymbol{y}}}\\log p_{T-t}(\\widehat{\\boldsymbol{y}}_t)\\right]dt, \\quad 0 \\leq t < T.\n",
    "  \\end{equation}"
   ]
  },
  {
   "cell_type": "markdown",
   "id": "9aaac493",
   "metadata": {
    "id": "9aaac493"
   },
   "source": [
    "We study the errors of the diffusion models by studying the Wasserstein-2 distance. For two centered Gaussians $\\mathcal{N}(\\boldsymbol{0},\\boldsymbol{\\Sigma}_1)$ and $\\mathcal{N}(\\boldsymbol{0},\\boldsymbol{\\Sigma}_2)$ such that $\\boldsymbol{\\Sigma}_1,\\boldsymbol{\\Sigma}_2$ are simultaneously diagonalizable with respective eigenvalues $\\left(\\lambda_{i,1}\\right)_{1\\leq i \\leq d},\\left(\\lambda_{i,2}\\right)_{1\\leq i \\leq d}$,\n",
    "\n",
    "\\begin{equation}\n",
    "\\tag{5}\n",
    "\t\\mathbf{W}_2(\\mathcal{N}(\\boldsymbol{0},\\boldsymbol{\\Sigma}_2),\\mathcal{N}(\\boldsymbol{0},\\boldsymbol{\\Sigma}_1)) =  \\sqrt{\\sum_{1 \\leq i \\leq d} (\\sqrt{\\lambda_{i,1}}-\\sqrt{\\lambda_{i,2}})^2}.\n",
    "\\end{equation}"
   ]
  },
  {
   "cell_type": "code",
   "execution_count": 1,
   "id": "73d64c2b",
   "metadata": {
    "id": "73d64c2b"
   },
   "outputs": [],
   "source": [
    "def W2(lamb1,lamb2) :\n",
    "    return np.sqrt ( np.sum( (np.sqrt(lamb1)-np.sqrt(lamb2))**2 ) )"
   ]
  },
  {
   "cell_type": "markdown",
   "id": "e244d4fd",
   "metadata": {
    "id": "e244d4fd"
   },
   "source": [
    "## Packages"
   ]
  },
  {
   "cell_type": "code",
   "execution_count": null,
   "id": "lY9GGzds3P9L",
   "metadata": {
    "colab": {
     "base_uri": "https://localhost:8080/"
    },
    "id": "lY9GGzds3P9L",
    "outputId": "de1e564a-7db4-485b-ca89-d6f0ceb0748a"
   },
   "outputs": [],
   "source": [
    "!pip install scienceplots"
   ]
  },
  {
   "cell_type": "code",
   "execution_count": 3,
   "id": "af22a4e6",
   "metadata": {
    "id": "af22a4e6"
   },
   "outputs": [],
   "source": [
    "import pylab as plt\n",
    "import numpy as np\n",
    "import scienceplots\n",
    "plt.style.use('science')\n",
    "from IPython.display import display, Markdown\n",
    "import os\n",
    "plt.rcParams.update(plt.rcParamsDefault)"
   ]
  },
  {
   "cell_type": "markdown",
   "id": "d0d47fa0",
   "metadata": {},
   "source": [
    "# Load data (you can use your own data)"
   ]
  },
  {
   "cell_type": "markdown",
   "id": "e094a09f",
   "metadata": {
    "id": "e094a09f"
   },
   "source": [
    "The Gaussian distribution is known through the eigenvalues of its covariance matrix $\\boldsymbol{\\Sigma}$. ```cifar10.npy``` corresponds to the Gaussian distribution fitted to the CIFAR-10 dataset. This the list of empirical covariance eigenvalues of the normalized images of the dataset. ```ADSN.npy``` corresponds to the ADSN distribution described in the paper."
   ]
  },
  {
   "cell_type": "code",
   "execution_count": 4,
   "id": "b6c2ac3c",
   "metadata": {
    "id": "b6c2ac3c"
   },
   "outputs": [],
   "source": [
    "PATH_data = './'\n",
    "\n",
    "lamb = np.load(PATH_data+'cifar10.npy')"
   ]
  },
  {
   "cell_type": "markdown",
   "id": "b802a10b",
   "metadata": {},
   "source": [
    "Bellow, you can choose the outputs path."
   ]
  },
  {
   "cell_type": "code",
   "execution_count": 5,
   "id": "2ca0b98a",
   "metadata": {},
   "outputs": [],
   "source": [
    "PATH_output = './'"
   ]
  },
  {
   "cell_type": "markdown",
   "id": "0e083bdb",
   "metadata": {
    "id": "0e083bdb"
   },
   "source": [
    "## Parametrization"
   ]
  },
  {
   "cell_type": "markdown",
   "id": "4420cc91",
   "metadata": {
    "id": "4420cc91"
   },
   "source": [
    "Let consider $\\beta_t$ linear of the form: $\\beta_t = t \\mapsto \\beta_{\\text{min}} + \\left(\\beta_{\\text{max}}-\\beta_{\\text{min}}\\right)t$ with $\\beta_\\text{min} = 0.05$ and $\\beta_\\text{max} = 10$. The values are from [ [ 2 ] ](#ref2), up to a factor 2 to be consistent with our VP SDE. We introduce also\n",
    "\n",
    "$$B_t = \\int_0^t \\beta_u du = \\beta_{\\text{min}}t + \\left(\\beta_{\\text{max}}-\\beta_{\\text{min}}\\right)\\frac{t^2}{2}.$$"
   ]
  },
  {
   "cell_type": "code",
   "execution_count": 6,
   "id": "05b2b44d",
   "metadata": {
    "id": "05b2b44d"
   },
   "outputs": [],
   "source": [
    "T = 1.\n",
    "beta_min = 0.1/2\n",
    "beta_max = 20/2\n",
    "\n",
    "def beta(t) :\n",
    "    return beta_min + t*(beta_max-beta_min)\n",
    "\n",
    "def B(t) :\n",
    "    return beta_min*t +(beta_max-beta_min)*t**2/2"
   ]
  },
  {
   "cell_type": "markdown",
   "id": "5faf0a10",
   "metadata": {
    "id": "5faf0a10"
   },
   "source": [
    "# Forward process"
   ]
  },
  {
   "cell_type": "markdown",
   "id": "4c1adbc5",
   "metadata": {
    "id": "4c1adbc5"
   },
   "source": [
    "$p_t = \\mathcal{N}(\\boldsymbol{0},\\boldsymbol{\\Sigma}_t)$ with $\\boldsymbol{\\Sigma}_t = e^{-2B_t}\\boldsymbol{\\Sigma} + (1-e^{-2B_t})\\boldsymbol{I}$. Let consider the eigenvalues of $\\left(\\lambda_i\\right)_{1 \\leq i \\leq d}$ of $\\boldsymbol{\\Sigma}$.  $\\boldsymbol{\\Sigma}_t$ is diagonalizable in the same orthonormal basis and the $i$th eigenvalue of $\\Sigma_t$ is:\n",
    "\n",
    "\\begin{equation}\n",
    "\\tag{6}\n",
    "\\lambda_i^t = e^{-2B_t}\\lambda_i + (1-e^{-2B_t}).\n",
    "\\end{equation}"
   ]
  },
  {
   "cell_type": "code",
   "execution_count": 7,
   "id": "bbd84604",
   "metadata": {
    "id": "bbd84604"
   },
   "outputs": [],
   "source": [
    "def lamb_Sigma_t(lamb,t) :\n",
    "    ebt = np.exp(-2*B(t))\n",
    "    return ebt*lamb+(1-ebt)"
   ]
  },
  {
   "cell_type": "markdown",
   "id": "e3a9c203",
   "metadata": {
    "id": "e3a9c203"
   },
   "source": [
    "# Continuous Initialization error"
   ]
  },
  {
   "cell_type": "markdown",
   "id": "c0297e89",
   "metadata": {
    "id": "c0297e89"
   },
   "source": [
    "### Continuous SDE"
   ]
  },
  {
   "cell_type": "markdown",
   "id": "fb9e9954",
   "metadata": {
    "id": "fb9e9954"
   },
   "source": [
    "With an initialization $\\tilde{\\boldsymbol{y}}_0 \\sim \\mathcal{N}(\\boldsymbol{0},\\boldsymbol{I})$, the solution $y_t$ of Equation (3) follows the law $\\tilde{q}_{t} = \\tilde{p}_{T-t}$ where $\\tilde{p}_t$ is the Gaussian distribution $\\mathcal{N}(\\boldsymbol{0},\\boldsymbol{\\tilde{\\Sigma}}_t)$ and\n",
    "\n",
    "\\begin{equation}\n",
    "\\tag{7}\n",
    "\\boldsymbol{\\tilde{\\Sigma}}_t = \\boldsymbol{\\Sigma}_{t}+e^{-2(B_{T}-B_t)}\\boldsymbol{\\Sigma}^2_{t}\\boldsymbol{\\Sigma}_T^{-1}(\\boldsymbol{\\Sigma}^{-1}_T-\\boldsymbol{I})\n",
    "\\end{equation}\n",
    "\n",
    "Consequently, $\\boldsymbol{\\tilde{\\Sigma}}_t$ is diagonalizable and we can compute its eigenvalues as follows."
   ]
  },
  {
   "cell_type": "code",
   "execution_count": 8,
   "id": "cc615c7e",
   "metadata": {
    "id": "cc615c7e"
   },
   "outputs": [],
   "source": [
    "def lamb_SDE_t(lamb,t) :\n",
    "\n",
    "    lamb_t = lamb_Sigma_t(lamb,t)\n",
    "    lamb_T = lamb_Sigma_t(lamb,T)\n",
    "\n",
    "    return lamb_t+np.exp(-2*(B(T)-B(t)))*lamb_t**2/lamb_T*(1/lamb_T-1)"
   ]
  },
  {
   "cell_type": "markdown",
   "id": "0d167848",
   "metadata": {
    "id": "0d167848"
   },
   "source": [
    "### Continuous ODE"
   ]
  },
  {
   "cell_type": "markdown",
   "id": "fea36ea2",
   "metadata": {
    "id": "fea36ea2"
   },
   "source": [
    "With an initialization $\\widehat{\\boldsymbol{y}}_0 \\sim \\mathcal{N}(\\boldsymbol{0},\\boldsymbol{I})$, the solution $\\widehat{y}_t$ of Equation (4) follows the law $\\widehat{q}_{t} = \\widehat{p}_{T-t}$ where $\\widehat{p}_t$ is the Gaussian distribution $\\mathcal{N}(\\boldsymbol{0},\\boldsymbol{\\widehat{\\Sigma}}_t)$ and\n",
    "\n",
    "\\begin{equation}\n",
    "\\tag{8}\n",
    "\\boldsymbol{\\widehat{\\Sigma}}_t = \\boldsymbol{\\Sigma}^{-1}_T\\boldsymbol{\\Sigma}_{t}\n",
    "\\end{equation}\n",
    "\n",
    "Consequently, $\\boldsymbol{\\tilde{\\Sigma}}_t$ is diagonalizable and we can compute its eigenvalues as follows."
   ]
  },
  {
   "cell_type": "code",
   "execution_count": 9,
   "id": "cc58b123",
   "metadata": {
    "id": "cc58b123"
   },
   "outputs": [],
   "source": [
    "def lamb_ODE_t(lamb,t) :\n",
    "\n",
    "    lamb_t = lamb_Sigma_t(lamb,t)\n",
    "    lamb_T = lamb_Sigma_t(lamb,T)\n",
    "\n",
    "\n",
    "    return lamb_t/lamb_T"
   ]
  },
  {
   "cell_type": "markdown",
   "id": "cc3ff10f",
   "metadata": {
    "id": "cc3ff10f"
   },
   "source": [
    "# Discretization of the equations"
   ]
  },
  {
   "cell_type": "markdown",
   "id": "84f973a6",
   "metadata": {
    "id": "84f973a6"
   },
   "source": [
    "## Discretization of the bacward SDE"
   ]
  },
  {
   "cell_type": "markdown",
   "id": "3c2e0039",
   "metadata": {
    "id": "3c2e0039"
   },
   "source": [
    "Under Gaussian assumption, Equation (3) becomes:\n",
    "\n",
    "\\begin{equation}\n",
    "\\tag{9}\n",
    " d\\tilde{\\boldsymbol{y}}_t = \\beta_{T-t}(\\tilde{\\boldsymbol{y}}_t - 2\\boldsymbol{\\Sigma}^{-1}_{T-t}(\\tilde{\\boldsymbol{y}}_t))dt + \\sqrt{2\\beta_{T-t}}d\\boldsymbol{w}_t, \\quad0 \\leq t < T.\n",
    "\\end{equation}\n",
    "\n",
    "We study the Euler-Maruyama's scheme (EM) and the Exponential Integrator scheme (EI)."
   ]
  },
  {
   "cell_type": "markdown",
   "id": "f27d20ae",
   "metadata": {
    "id": "f27d20ae"
   },
   "source": [
    "### Euler Maruyama's scheme"
   ]
  },
  {
   "cell_type": "markdown",
   "id": "588765c1",
   "metadata": {
    "id": "588765c1"
   },
   "source": [
    "The EM discretization of Equation (9) is:\n",
    "\\begin{equation}\n",
    "\\tag{10}\n",
    "\\boldsymbol{y}^{\\text{EM},k+1} = \\boldsymbol{y}^{\\text{EM},k} + \\Delta_t \\beta_{T-t_k}\\left(\\boldsymbol{y}_{k}-2\\Sigma_{T-t_k}^{-1}\\boldsymbol{y}^{\\text{EM},k}\\right)+ \\sqrt{2\\Delta_t \\beta_{T-t_k}}\\boldsymbol{z}_k, \\quad \\boldsymbol{z}_k \\sim \\mathcal{N}_0\n",
    "\\end{equation}\n",
    "\n",
    "Consequently, the $i$th eigenvalue $\\lambda_i^{EM,k}$ of the covariance matrix of $\\left(\\boldsymbol{y}^{k,\\text{EM}}\\right)_{0 \\leq k \\leq N-1}$ verifies:\n",
    "\n",
    "\\begin{equation}\n",
    "\\tag{11}\n",
    "\\lambda_i^{\\text{EM},k+1} = \\left(1+\\Delta_t \\beta_{T-t_k}\\left(1-\\tfrac{2}{\\lambda_i^{T-t_k}}\\right)\\right)^2\\lambda_i^{\\text{EM},k} + 2\\Delta_t \\beta_{T-t_k}\n",
    "\\end{equation}\n",
    "\n",
    "with $\\lambda_i^{t}$ $i$th eigenvalue of $\\boldsymbol{\\Sigma}_t$ and $\\lambda_i^{\\text{EM},0}$ initialized at $1$ or $\\lambda_i^{T}$ depending on the choice of initialization. The following compute the Wasserstein error at each step."
   ]
  },
  {
   "cell_type": "code",
   "execution_count": 10,
   "id": "ee7dc5e5",
   "metadata": {
    "id": "ee7dc5e5"
   },
   "outputs": [],
   "source": [
    "def W2_EM(N,lamb,t_eps=0,p_T = False,all_t = True) :\n",
    "\n",
    "    tk = np.array([(T-t_eps)*k/(N-1) for k in range(N)])\n",
    "    Delta_t = tk[1]-tk[0]\n",
    "\n",
    "    #Initialization at p_T\n",
    "    if p_T :\n",
    "        lamb_EM = lamb_Sigma_t(lamb,T)\n",
    "    #Initialization at N_0\n",
    "    else :\n",
    "        lamb_EM = np.ones_like(lamb)\n",
    "\n",
    "    if all_t :\n",
    "        W2_EM_list = [W2(lamb_EM,lamb_Sigma_t(lamb,T))]\n",
    "\n",
    "    for k in range(N-1) :\n",
    "        lamb_T_tk = lamb_Sigma_t(lamb,T-tk[k])\n",
    "        beta_T_tk = beta(T-tk[k])\n",
    "\n",
    "        lamb_EM =  (1+Delta_t*beta_T_tk*(1-2/lamb_T_tk))**2*lamb_EM + 2*Delta_t*beta_T_tk\n",
    "\n",
    "        if all_t :\n",
    "            W2_EM_list.append(W2(lamb_EM,lamb_Sigma_t(lamb,T-tk[k+1])))\n",
    "\n",
    "    if all_t :\n",
    "        W2_EM_list.reverse()\n",
    "        return W2_EM_list\n",
    "\n",
    "    else :\n",
    "        return W2(lamb_EM,lamb)"
   ]
  },
  {
   "cell_type": "markdown",
   "id": "2a63e142",
   "metadata": {
    "id": "2a63e142"
   },
   "source": [
    "### Exponential Integrator (EI) scheme"
   ]
  },
  {
   "cell_type": "markdown",
   "id": "4a7809db",
   "metadata": {
    "id": "4a7809db"
   },
   "source": [
    "The EI discretization of Equation (8) is:\n",
    "\\begin{equation}\n",
    "\\tag{11}\n",
    "\\boldsymbol{y}^{\\text{EI},k+1} = \\boldsymbol{y}^{\\text{EI},k} + \\gamma_{1,k}\\left(\\boldsymbol{y}^{\\text{EI},k+1}-2\\Sigma_{T-t_k}^{-1}\\boldsymbol{y}^{\\text{EI},k}\\right)+ \\sqrt{2\\gamma_{2,k}}\\boldsymbol{z}_k \\quad \\boldsymbol{z}_k\\sim \\mathcal{N}_0\n",
    "\\end{equation}\n",
    "\n",
    "with\n",
    "$\\gamma_{1,k}  = \\exp\\left(B_{T-t_{k}}-B_{T-t_{k+1}}\\right)-1$ and $\\gamma_{2,k}  = \\frac{1}{2}\\left[\\exp\\left(2\\left(B_{T-t_{k}}-B_{T-t_{k+1}}\\right)\\right)-1\\right]$.\n",
    "\n",
    "Consequently, the $i$th eigenvalue $\\lambda_i^{\\text{EI},k}$ of the covariance matrix of $\\left(\\boldsymbol{y}^{k,\\text{EI}}\\right)_{0 \\leq k \\leq N-1}$ verifies:\n",
    "\n",
    "\\begin{equation}\n",
    "\\tag{12}\n",
    "\\lambda_i^{\\text{EI},k+1} = \\left(1+\\gamma_{1,k}\\left(1-\\tfrac{2}{\\lambda_i^{T-t_k}}\\right)\\right)^2\\lambda_i^{\\text{EI},k}+ 2\\gamma_{2,k}\n",
    "\\end{equation}\n",
    "\n",
    "with $\\lambda_i^{t}$ $i$th eigenvalue of $\\boldsymbol{\\Sigma}_t$ and $\\lambda_i^{\\text{EI},0}$ initialized at $1$ or $\\lambda_i^{T}$ depending on the choice of initialization. The following compute the Wasserstein error at each step.\n"
   ]
  },
  {
   "cell_type": "code",
   "execution_count": 11,
   "id": "7c503424",
   "metadata": {
    "id": "7c503424"
   },
   "outputs": [],
   "source": [
    "def W2_EI(N,lamb,t_eps=0,p_T = False,all_t = True) :\n",
    "\n",
    "    tk = np.array([(T-t_eps)*k/(N-1) for k in range(N)])\n",
    "    Delta_t = tk[1]-tk[0]\n",
    "\n",
    "    #Initialization at p_T\n",
    "    if p_T :\n",
    "        lamb_EI = lamb_Sigma_t(lamb,T)\n",
    "    #Initialization at N_0\n",
    "    else :\n",
    "        lamb_EI = np.ones_like(lamb)\n",
    "\n",
    "    if all_t :\n",
    "        W2_EI_list = [W2(lamb_EI,lamb_Sigma_t(lamb,T))]\n",
    "\n",
    "    for k in range(N-1) :\n",
    "        gamma_1_k = np.exp(B(T-tk[k])-B(T-tk[k+1]))-1\n",
    "        gamma_2_k = (np.exp(2*(B(T-tk[k])-B(T-tk[k+1])))-1)/2\n",
    "\n",
    "        lamb_T_tk =  lamb_Sigma_t(lamb,T-tk[k])\n",
    "\n",
    "        beta_T_tk = beta(T-tk[k])\n",
    "\n",
    "\n",
    "        lamb_EI = (1+gamma_1_k*(1-2/lamb_T_tk))**2*lamb_EI + 2*gamma_2_k\n",
    "\n",
    "        if all_t :\n",
    "\n",
    "            W2_EI_list.append(W2(lamb_EI,lamb_Sigma_t(lamb,T-tk[k+1])))\n",
    "\n",
    "    if all_t :\n",
    "        W2_EI_list.reverse()\n",
    "\n",
    "        return W2_EI_list\n",
    "\n",
    "    else :\n",
    "\n",
    "        return W2(lamb_EI,lamb)"
   ]
  },
  {
   "cell_type": "markdown",
   "id": "cd1a21f5",
   "metadata": {
    "id": "cd1a21f5"
   },
   "source": [
    "## Discretization of the flow ODE"
   ]
  },
  {
   "cell_type": "markdown",
   "id": "9526c73f",
   "metadata": {
    "id": "9526c73f"
   },
   "source": [
    "Under Gaussian assumption, Equation (4) becomes:\n",
    "\n",
    "\\begin{equation}\n",
    " \\tag{13}\n",
    " \td\\widehat{\\boldsymbol{y}}_t = \\left[\\beta_{T-t}\\widehat{\\boldsymbol{y}}_t -\\beta_{T-t} \\boldsymbol{\\Sigma}^{-1}_{T-t}(\\widehat{\\boldsymbol{y}}_t)\\right]dt, \\quad 0 \\leq t < T.\n",
    "\\end{equation}\n",
    "\n",
    "We study the Euler scheme and the Heun's scheme."
   ]
  },
  {
   "cell_type": "markdown",
   "id": "cc47120e",
   "metadata": {
    "id": "cc47120e"
   },
   "source": [
    "## Euler scheme"
   ]
  },
  {
   "cell_type": "markdown",
   "id": "399bc3f0",
   "metadata": {
    "id": "399bc3f0"
   },
   "source": [
    "The EM discretization of Equation (13) is:\n",
    "\\begin{equation}\n",
    "\\tag{14}\n",
    "\\boldsymbol{y}^{\\text{Euler},k+1} = \\boldsymbol{y}^{\\text{Euler},k}+\\Delta_t\\beta_{T-t_k}\\left(\\boldsymbol{y}^{\\text{Euler},k}-\\Sigma^{-1}_{T-t_k}\\boldsymbol{y}^{\\text{Euler},k}\\right)\n",
    "\\end{equation}\n",
    "\n",
    "Consequently, the $i$th eigenvalue $\\lambda_i^{Euler,k}$ of the covariance matrix of $\\left(\\boldsymbol{y}^{k,\\text{Euler}}\\right)_{0 \\leq k \\leq N-1}$ verifies:\n",
    "\n",
    "\\begin{equation}\n",
    "\\tag{15}\n",
    "\\lambda_i^{\\text{Euler},k+1} =\\left(1+\\Delta_t\\beta_{T-t_k}\\left(1-\\tfrac{1}{\\lambda_i^{T-t_k}}\\right)\\right)^2\\lambda_i^{\\text{Euler},k}\n",
    "\\end{equation}\n",
    "\n",
    "with $\\lambda_i^{t}$ $i$th eigenvalue of $\\boldsymbol{\\Sigma}_t$ and $\\lambda_i^{\\text{Euler},0}$ initialized at $1$ or $\\lambda_i^{T}$ depending on the choice of initialization. The following compute the Wasserstein error at each step."
   ]
  },
  {
   "cell_type": "code",
   "execution_count": 12,
   "id": "6f8fe791",
   "metadata": {
    "id": "6f8fe791"
   },
   "outputs": [],
   "source": [
    "def W2_Euler(N,lamb,t_eps=0,p_T = False,all_t = True) :\n",
    "\n",
    "    tk = np.array([(T-t_eps)*k/(N-1) for k in range(N)])\n",
    "    Delta_t = tk[1]-tk[0]\n",
    "\n",
    "    #Initialization at p_T\n",
    "    if p_T :\n",
    "        lamb_Euler = lamb_Sigma_t(lamb,T)\n",
    "    #Initialization at N_0\n",
    "    else :\n",
    "        lamb_Euler = np.ones_like(lamb)\n",
    "\n",
    "    if all_t :\n",
    "        W2_Euler_list = [W2(lamb_Euler,lamb_Sigma_t(lamb,T))]\n",
    "\n",
    "    for k in range(N-1) :\n",
    "        lamb_T_tk =  lamb_Sigma_t(lamb,T-tk[k])\n",
    "        beta_T_tk = beta(T-tk[k])\n",
    "\n",
    "        lamb_Euler = (1+Delta_t*beta_T_tk*(1-1/lamb_T_tk))**2*lamb_Euler\n",
    "\n",
    "        if all_t :\n",
    "            W2_Euler_list.append(W2(lamb_Euler,lamb_Sigma_t(lamb,T-tk[k+1])))\n",
    "\n",
    "    if all_t :\n",
    "        W2_Euler_list.reverse()\n",
    "\n",
    "        return W2_Euler_list\n",
    "\n",
    "    else :\n",
    "\n",
    "        return W2(lamb_Euler,lamb)"
   ]
  },
  {
   "cell_type": "markdown",
   "id": "52c4dee4",
   "metadata": {
    "id": "52c4dee4"
   },
   "source": [
    "## Heun's scheme"
   ]
  },
  {
   "cell_type": "markdown",
   "id": "8a4ba547",
   "metadata": {
    "id": "8a4ba547"
   },
   "source": [
    "The EM discretization of Equation (13) is:\n",
    "\\begin{align}\n",
    "\\tag{16}\n",
    "        y^{k+1/2,\\text{Heun}} & = y^{k,\\text{Heun}}+ \\Delta_t \\beta_{T-t_k}\\left(y^{k,\\text{Heun}}-\\boldsymbol{\\Sigma}_{T-t_k}^{-1}y^{k,\\text{Heun}}\\right) \\\\\n",
    "        y^{k+1,\\text{Heun}} & = y^{k,\\text{Heun}}+ \\frac{\\Delta_t}{2} \\beta_{T-t_k}\\left(y^{k,\\text{Heun}}-\\boldsymbol{\\Sigma}_{T-t_k}^{-1}y^{k,\\text{Heun}}\\right)+ \\frac{\\Delta_t}{2} \\beta_{T-t_{k+1}}\\left(y^{k+1/2,\\text{Heun}}-\\boldsymbol{\\Sigma}_{T-t_{k+1}}^{-1}y^{k+1/2,\\text{Heun}}\\right)\n",
    "\\end{align}\n",
    "\n",
    "Consequently, the $i$th eigenvalue $\\lambda_i^{\\text{Heun},k}$ of the covariance matrix of $\\left(y^{k,\\text{Heun}}\\right)_{0 \\leq k \\leq N-1}$ verifies:\n",
    "\n",
    "\\begin{align}\n",
    "\\tag{17}\n",
    "        \\lambda_i^{k+1,\\text{Heun}} & = \\left(1+ \\frac{\\Delta_t}{2} \\beta_{T-t_k}\\left(1-\\tfrac{1}{\\lambda_i^{T-t_k}}\\right)+\\frac{\\Delta_t}{2} \\beta_{T-t_{k+1}}\\left(1-\\tfrac{1}{\\lambda_i^{T-t_{k+1}}}\\right)\\left( 1+ \\Delta_t \\beta_{T-t_k}\\left(1-\\tfrac{1}{\\lambda_i^{T-t_k}}\\right)\\right)\\right)^2\\lambda_i^{k,\\text{Heun}}\n",
    "\\end{align}\n",
    "\n",
    "with $\\lambda_i^{t}$ $i$th eigenvalue of $\\boldsymbol{\\Sigma}_t$. With $\\lambda_i^{\\text{Heun},0}$ initialized at $1$ or $\\lambda_i^{T}$ depending on the choice of initialization."
   ]
  },
  {
   "cell_type": "code",
   "execution_count": 13,
   "id": "f9575d1d",
   "metadata": {
    "id": "f9575d1d"
   },
   "outputs": [],
   "source": [
    "def W2_Heun(N,lamb,t_eps=0,p_T = False,all_t = True) :\n",
    "    tk = np.array([(T-t_eps)*k/(N-1) for k in range(N)])\n",
    "    Delta_t = tk[1]-tk[0]\n",
    "\n",
    "    #Initialization at p_T\n",
    "    if p_T :\n",
    "        lamb_Heun = lamb_Sigma_t(lamb,T)\n",
    "    #Initialization at N_0\n",
    "    else :\n",
    "        lamb_Heun = np.ones_like(lamb)\n",
    "\n",
    "    if all_t :\n",
    "        W2_Heun_list = [W2(lamb_Heun,lamb_Sigma_t(lamb,T))]\n",
    "\n",
    "    for k in range(N-1) :\n",
    "        lamb_T_tk =  lamb_Sigma_t(lamb,T-tk[k])\n",
    "        beta_T_tk = beta(T-tk[k])\n",
    "\n",
    "        lamb_T_tk_1 =  lamb_Sigma_t(lamb,T-tk[k+1])\n",
    "        beta_T_tk_1 = beta(T-tk[k+1])\n",
    "\n",
    "\n",
    "        lamb_Heun =(1+ Delta_t/2*beta_T_tk*(1-1/lamb_T_tk)+Delta_t/2*beta_T_tk_1*(1-1/lamb_T_tk_1)*(1+Delta_t*beta_T_tk*(1-1/lamb_T_tk)))**2*lamb_Heun\n",
    "\n",
    "        if all_t :\n",
    "            W2_Heun_list.append(W2(lamb_Heun,lamb_T_tk_1 ))\n",
    "\n",
    "    if all_t :\n",
    "        W2_Heun_list.reverse()\n",
    "\n",
    "        return W2_Heun_list\n",
    "\n",
    "    else :\n",
    "\n",
    "        return W2(lamb_Heun,lamb)"
   ]
  },
  {
   "cell_type": "markdown",
   "id": "0632ee57",
   "metadata": {
    "id": "0632ee57"
   },
   "source": [
    "# Error graphs"
   ]
  },
  {
   "cell_type": "markdown",
   "id": "5ee4cbb6",
   "metadata": {
    "id": "5ee4cbb6"
   },
   "source": [
    "Bellow, the code to plot the Figure 1 of [ [ 1 ] ](#ref1) showing the Wasserstein value of the discretization, the initialization along the time and the truncation error."
   ]
  },
  {
   "cell_type": "markdown",
   "id": "2fe2bf20",
   "metadata": {
    "id": "2fe2bf20"
   },
   "source": [
    "### Discretization and initialization"
   ]
  },
  {
   "cell_type": "code",
   "execution_count": 14,
   "id": "940e1ac0",
   "metadata": {
    "colab": {
     "base_uri": "https://localhost:8080/",
     "height": 450
    },
    "id": "940e1ac0",
    "outputId": "0f4774a1-a608-483f-9284-39a7329ec9af"
   },
   "outputs": [
    {
     "data": {
      "image/png": "[encoded data removed]",
      "text/plain": [
       "<Figure size 640x480 with 1 Axes>"
      ]
     },
     "metadata": {},
     "output_type": "display_data"
    },
    {
     "data": {
      "text/plain": [
       "<Figure size 640x480 with 0 Axes>"
      ]
     },
     "metadata": {},
     "output_type": "display_data"
    }
   ],
   "source": [
    "T = 1\n",
    "N = 1000\n",
    "tk = np.array([T*k/(N-1) for k in range(N)])\n",
    "\n",
    "\n",
    "W2_SDE = [W2(lamb_SDE_t(lamb,T-t),lamb_Sigma_t(lamb,T-t)) for t in tk]\n",
    "W2_SDE.reverse()\n",
    "W2_ODE = [W2(lamb_ODE_t(lamb,T-t),lamb_Sigma_t(lamb,T-t)) for t in tk]\n",
    "W2_ODE.reverse()\n",
    "\n",
    "plt.semilogy(tk,W2_SDE,'-',label='SDE',color='tab:purple')\n",
    "plt.semilogy(tk,W2_ODE,'-',label='ODE',color='k')\n",
    "\n",
    "das = (3,2)\n",
    "plt.semilogy(tk,W2_EM(N,lamb),'--',label='EM',dashes=das,color='C0')\n",
    "plt.semilogy(tk,W2_EI(N,lamb),'--',label='EI',dashes=das,color='tab:green')\n",
    "plt.semilogy(tk,W2_Euler(N,lamb),'--',label='Euler',dashes=das,color='tab:orange')\n",
    "plt.semilogy(tk,W2_Heun(N,lamb),'--',label='Heun',dashes=das,color='tab:red')\n",
    "\n",
    "\n",
    "\n",
    "plt.ylabel('$\\mathbf{W}_2(\\cdot,p_t)$')\n",
    "axes = plt.gca()\n",
    "axes.xaxis.set_ticks([0,0.2,0.4,0.6,0.8,1.0])\n",
    "axes.xaxis.set_ticklabels([\"0\",\"0.2\",\"0.4\",\"0.6\",\"0.8\",r\"$\\mathrm{T} = 1$\"])\n",
    "\n",
    "plt.xlabel('Time $t$')\n",
    "\n",
    "\n",
    "plt.legend( ncol=3,fontsize='x-small')\n",
    "\n",
    "plt.show()\n",
    "\n",
    "plt.savefig(PATH_output+'discretization_initialization_error.pdf', bbox_inches='tight', dpi=100)"
   ]
  },
  {
   "cell_type": "markdown",
   "id": "1c1b56f9",
   "metadata": {
    "id": "1c1b56f9"
   },
   "source": [
    "### Truncation"
   ]
  },
  {
   "cell_type": "code",
   "execution_count": 15,
   "id": "1633f266",
   "metadata": {
    "id": "1633f266"
   },
   "outputs": [],
   "source": [
    "eps_list_graph = [0,10**-5,10**-4,10**-3,10**-2]\n",
    "\n",
    "W2_eps_EM = []\n",
    "W2_eps_EI = []\n",
    "W2_eps_Euler = []\n",
    "W2_eps_Heun = []\n",
    "W2_eps_SDE = []\n",
    "W2_eps_ODE = []\n",
    "\n",
    "N = 1000\n",
    "\n",
    "eps_list_graph = [0,10**-5,10**-4,10**-3,10**-2]\n",
    "for t_eps in eps_list_graph :\n",
    "    W2_eps_EM.append(W2_EM(N,lamb,t_eps,all_t=False))\n",
    "    W2_eps_EI.append(W2_EI(N,lamb,t_eps,all_t=False))\n",
    "    W2_eps_Euler.append(W2_Euler(N,lamb,t_eps,all_t=False))\n",
    "    W2_eps_Heun.append(W2_Heun(N,lamb,t_eps,all_t=False))\n",
    "    W2_eps_SDE.append(W2(lamb_SDE_t(lamb,t_eps),lamb_Sigma_t(lamb,0)))\n",
    "    W2_eps_ODE.append(W2(lamb_ODE_t(lamb,t_eps),lamb_Sigma_t(lamb,0)))"
   ]
  },
  {
   "cell_type": "code",
   "execution_count": 31,
   "id": "21f4d042",
   "metadata": {
    "colab": {
     "base_uri": "https://localhost:8080/",
     "height": 467
    },
    "id": "21f4d042",
    "outputId": "feb30738-cabc-4021-c28f-cad74a6db06c"
   },
   "outputs": [
    {
     "data": {
      "image/png": "[encoded data removed]",
      "text/plain": [
       "<Figure size 640x480 with 1 Axes>"
      ]
     },
     "metadata": {},
     "output_type": "display_data"
    },
    {
     "data": {
      "text/plain": [
       "<Figure size 640x480 with 0 Axes>"
      ]
     },
     "metadata": {},
     "output_type": "display_data"
    }
   ],
   "source": [
    "plt.figure()\n",
    "\n",
    "T_eps_plot = [10**-6,10**-5,10**-4,10**-3,10**-2]\n",
    "#The 'zero eps' is plotted at 10**-6 to enable the loglog setting\n",
    "\n",
    "plt.loglog(T_eps_plot,W2_eps_SDE,'-x',label='SDE',color='tab:purple')\n",
    "plt.loglog(T_eps_plot,W2_eps_ODE,'-x',label='ODE',color='k')\n",
    "das = (3,2)\n",
    "plt.loglog(T_eps_plot,W2_eps_EM,'--x',label='EM',dashes=das,color='C0')\n",
    "plt.loglog(T_eps_plot,W2_eps_EI,'--x',label='EI',dashes=das,color='tab:green')\n",
    "plt.loglog(T_eps_plot,W2_eps_Euler,'--x',label='Euler',dashes=das,color='tab:orange')\n",
    "plt.loglog(T_eps_plot,W2_eps_Heun,'--x',label='Heun',dashes=das,color='tab:red')\n",
    "\n",
    "#plt.legend()\n",
    "axes = plt.gca()\n",
    "axes.xaxis.set_ticks(T_eps_plot)\n",
    "axes.xaxis.set_ticklabels([str(t_eps) for t_eps in eps_list_graph])\n",
    "plt.ylabel('$\\mathbf{W}_2(\\cdot,p_0)$')\n",
    "\n",
    "plt.xlabel(r'Truncation time $\\varepsilon$')\n",
    "\n",
    "\n",
    "plt.legend(ncol=3,fontsize='x-small')\n",
    "\n",
    "plt.show()\n",
    "\n",
    "plt.savefig(PATH_output+'truncation_error.pdf', bbox_inches='tight', dpi=100)"
   ]
  },
  {
   "cell_type": "markdown",
   "id": "cf59f897",
   "metadata": {
    "id": "cf59f897"
   },
   "source": [
    "## Two graphs with the same scale"
   ]
  },
  {
   "cell_type": "code",
   "execution_count": 32,
   "id": "cc983784",
   "metadata": {
    "colab": {
     "base_uri": "https://localhost:8080/",
     "height": 406
    },
    "id": "cc983784",
    "outputId": "e45d0576-866f-46d3-887f-2311b90aa8e0"
   },
   "outputs": [
    {
     "data": {
      "image/png": "[encoded data removed]",
      "text/plain": [
       "<Figure size 1000x400 with 2 Axes>"
      ]
     },
     "metadata": {},
     "output_type": "display_data"
    },
    {
     "data": {
      "text/plain": [
       "<Figure size 640x480 with 0 Axes>"
      ]
     },
     "metadata": {},
     "output_type": "display_data"
    }
   ],
   "source": [
    "plt.figure(figsize=(10,4))\n",
    "plt.subplot(1,2,1)\n",
    "plt.semilogy(tk,W2_SDE,'-',label='SDE',color='tab:purple')\n",
    "plt.semilogy(tk,W2_ODE,'-',label='ODE',color='k')\n",
    "\n",
    "das = (3,2)\n",
    "plt.semilogy(tk,W2_EM(N,lamb),'--',label='EM',dashes=das,color='C0')\n",
    "plt.semilogy(tk,W2_EI(N,lamb),'--',label='EI',dashes=das,color='tab:green')\n",
    "plt.semilogy(tk,W2_Euler(N,lamb),'--',label='Euler',dashes=das,color='tab:orange')\n",
    "plt.semilogy(tk,W2_Heun(N,lamb),'--',label='Heun',dashes=das,color='tab:red')\n",
    "\n",
    "\n",
    "plt.ylabel('$\\mathbf{W}_2(\\cdot,p_t)$')\n",
    "axes = plt.gca()\n",
    "axes.xaxis.set_ticks([0,0.2,0.4,0.6,0.8,1.0])\n",
    "axes.xaxis.set_ticklabels([\"0\",\"0.2\",\"0.4\",\"0.6\",\"0.8\",r\"$\\mathrm{T} = 1$\"])\n",
    "\n",
    "plt.xlabel('Time $t$')\n",
    "\n",
    "\n",
    "plt.legend( ncol=3,fontsize='x-small')\n",
    "\n",
    "plt.subplot(1,2,2,sharey=axes)\n",
    "\n",
    "T_eps_plot = [10**-6,10**-5,10**-4,10**-3,10**-2]\n",
    "\n",
    "\n",
    "plt.loglog(T_eps_plot,W2_eps_SDE,'-x',label='SDE',color='tab:purple')\n",
    "plt.loglog(T_eps_plot,W2_eps_ODE,'-x',label='ODE',color='k')\n",
    "das = (3,2)\n",
    "plt.loglog(T_eps_plot,W2_eps_EM,'--x',label='EM',dashes=das,color='C0')\n",
    "plt.loglog(T_eps_plot,W2_eps_EI,'--x',label='EI',dashes=das,color='tab:green')\n",
    "plt.loglog(T_eps_plot,W2_eps_Euler,'--x',label='Euler',dashes=das,color='tab:orange')\n",
    "plt.loglog(T_eps_plot,W2_eps_Heun,'--x',label='Heun',dashes=das,color='tab:red')\n",
    "\n",
    "axes = plt.gca()\n",
    "axes.xaxis.set_ticks(T_eps_plot)\n",
    "axes.xaxis.set_ticklabels([str(t_eps) for t_eps in eps_list_graph])\n",
    "plt.ylabel('$\\mathbf{W}_2(\\cdot,p_0)$')\n",
    "\n",
    "plt.xlabel(r'Truncation time $\\varepsilon$')\n",
    "\n",
    "plt.legend(ncol=3,fontsize='x-small')\n",
    "\n",
    "plt.show()\n",
    "\n",
    "plt.savefig(PATH_output+'truncation_discretization_initialization.pdf', bbox_inches='tight', dpi=100)"
   ]
  },
  {
   "cell_type": "markdown",
   "id": "dc74a85b",
   "metadata": {
    "id": "dc74a85b"
   },
   "source": [
    "# Ablation study table"
   ]
  },
  {
   "cell_type": "markdown",
   "id": "72da9e33",
   "metadata": {
    "id": "72da9e33"
   },
   "source": [
    "The following code displays the table corresponding to Table 2 of [ [ 1 ] ](#ref1)."
   ]
  },
  {
   "cell_type": "code",
   "execution_count": 18,
   "id": "32829f90",
   "metadata": {
    "id": "32829f90"
   },
   "outputs": [],
   "source": [
    "N_list = [50,250,500,1000] #500\n",
    "eps_list = [0., 10**-5,10**-3,10**-2]\n",
    "P_T = [True,False]\n",
    "schemes_list = ['EM','EI','Euler','Heun']\n",
    "\n",
    "\n",
    "W2_dict = {scheme: {str(p_T):{} for p_T in P_T } for scheme in schemes_list}\n",
    "W2_dict['SDE'] =  {str(p_T):{} for p_T in P_T }\n",
    "W2_dict['ODE'] = {str(p_T):{} for p_T in P_T }\n",
    "#Continuous integration\n",
    "\n",
    "\n",
    "for scheme in ['SDE','ODE'] :\n",
    "    if scheme == 'SDE' :\n",
    "        lamb_funct = lamb_SDE_t\n",
    "    elif scheme == 'ODE' :\n",
    "        lamb_funct = lamb_ODE_t\n",
    "    for t_eps in eps_list :\n",
    "        W2_dict[scheme]['False'][str(t_eps)] = W2(lamb_funct(lamb,t_eps),lamb_Sigma_t(lamb,0))\n",
    "        W2_dict[scheme]['True'][str(t_eps)] = W2(lamb_Sigma_t(lamb,t_eps),lamb_Sigma_t(lamb,0))\n",
    "\n",
    "\n",
    "for scheme in schemes_list :\n",
    "\n",
    "    if scheme == 'EM' :\n",
    "            W2_funct = W2_EM\n",
    "    elif scheme == 'EI' :\n",
    "            W2_funct = W2_EI\n",
    "    elif scheme == 'Euler' :\n",
    "            W2_funct = W2_Euler\n",
    "    elif scheme == 'Heun' :\n",
    "            W2_funct = W2_Heun\n",
    "    for p_T in P_T :\n",
    "        for N in N_list :\n",
    "            W2_dict[scheme][str(p_T)][str(N)] = {}\n",
    "            for t_eps in eps_list :\n",
    "                W2_dict[scheme][str(p_T)][str(N)][str(t_eps)] = W2_funct(N,lamb,t_eps=t_eps,p_T = p_T ,all_t=False)"
   ]
  },
  {
   "cell_type": "markdown",
   "id": "e3bc9e4d",
   "metadata": {
    "id": "e3bc9e4d"
   },
   "source": [
    "### Markdown table"
   ]
  },
  {
   "cell_type": "markdown",
   "id": "228e7b63",
   "metadata": {
    "id": "228e7b63"
   },
   "source": [
    "In the following, the table is displayed in the notebook via Markdown."
   ]
  },
  {
   "cell_type": "code",
   "execution_count": 19,
   "id": "adef2818",
   "metadata": {
    "id": "adef2818"
   },
   "outputs": [],
   "source": [
    "def formatting_number(x) :\n",
    "    if x == 0 :\n",
    "        str_x = '0'\n",
    "    elif x == np.inf :\n",
    "        str_x = '-'\n",
    "    elif np.log10(x).is_integer() :\n",
    "        str_x = '10^{'+str(int(np.log10(x)))+'}'\n",
    "    elif  x > 10**2 :\n",
    "        str_x = '{:1.1E}'.format(x)\n",
    "    elif x < 10**-2 :\n",
    "        str_x =  '{:1.1E}'.format(x)\n",
    "    else :\n",
    "        str_x =  '{:1.2f}'.format(x)\n",
    "    return str_x"
   ]
  },
  {
   "cell_type": "code",
   "execution_count": 20,
   "id": "nZ_S9F5vJBbQ",
   "metadata": {
    "colab": {
     "base_uri": "https://localhost:8080/",
     "height": 644
    },
    "id": "nZ_S9F5vJBbQ",
    "outputId": "06f3bd0e-a1e7-4827-ab30-66975cd74616"
   },
   "outputs": [
    {
     "data": {
      "text/markdown": [
       "||| Continuous||  N =  50||  N =  250||  N =  500||  N =  1000||\n",
       "|:---:|:---:|:---:|:---:|:---:|:---:|:---:|:---:|:---:|:---:|:---:|:---:|\n",
       "|||$p_T$|$\\mathcal{N}_0$|$p_T$|$\\mathcal{N}_0$|$p_T$|$\\mathcal{N}_0$|$p_T$|$\\mathcal{N}_0$|$p_T$|$\\mathcal{N}_0$|\n",
       "|EM|$\\varepsilon = 0$|0|6.7E-04|4.77|4.77|0.65|0.65|0.31|0.31|0.15|0.16|\n",
       "||$\\varepsilon = 10^{-5}$|2.5E-03|2.6E-03|4.77|4.77|0.65|0.65|0.31|0.31|0.16|0.16|\n",
       "||$\\varepsilon = 10^{-3}$|0.17|0.17|4.67|4.67|0.69|0.69|0.39|0.39|0.27|0.27|\n",
       "||$\\varepsilon = 10^{-2}$|1.35|1.35|4.56|4.56|1.69|1.69|1.50|1.50|1.42|1.42|\n",
       "|EI|$\\varepsilon = 0$|0|6.7E-04|2.81|2.81|0.57|0.57|0.30|0.30|0.16|0.16|\n",
       "||$\\varepsilon = 10^{-5}$|2.5E-03|2.6E-03|2.81|2.81|0.57|0.57|0.30|0.30|0.16|0.16|\n",
       "||$\\varepsilon = 10^{-3}$|0.17|0.17|2.91|2.91|0.66|0.66|0.41|0.41|0.28|0.28|\n",
       "||$\\varepsilon = 10^{-2}$|1.35|1.35|3.93|3.93|1.76|1.76|1.55|1.55|1.45|1.45|\n",
       "|Euler|$\\varepsilon = 0$|0|0.07|1.72|1.78|0.38|0.44|0.19|0.26|0.10|0.17|\n",
       "||$\\varepsilon = 10^{-5}$|2.5E-03|0.07|1.72|1.78|0.38|0.44|0.20|0.26|0.10|0.17|\n",
       "||$\\varepsilon = 10^{-3}$|0.17|0.19|1.72|1.78|0.42|0.48|0.27|0.32|0.21|0.25|\n",
       "||$\\varepsilon = 10^{-2}$|1.35|1.36|2.21|2.25|1.41|1.43|1.37|1.38|1.36|1.37|\n",
       "|Heun|$\\varepsilon = 0$|0|0.07|7.09|7.09|0.72|0.73|0.21|0.22|0.05|0.09|\n",
       "||$\\varepsilon = 10^{-5}$|2.5E-03|0.07|6.48|6.48|0.64|0.65|0.18|0.20|0.05|0.09|\n",
       "||$\\varepsilon = 10^{-3}$|0.17|0.19|0.56|0.57|0.13|0.15|0.16|0.18|0.17|0.19|\n",
       "||$\\varepsilon = 10^{-2}$|1.35|1.36|1.37|1.38|1.35|1.36|1.35|1.36|1.35|1.36|\n"
      ],
      "text/plain": [
       "<IPython.core.display.Markdown object>"
      ]
     },
     "execution_count": 20,
     "metadata": {},
     "output_type": "execute_result"
    }
   ],
   "source": [
    "table_Markdown = '|||'\n",
    "table_Markdown += ' Continuous||'\n",
    "\n",
    "for N in N_list :\n",
    "    table_Markdown += '  N =  ' +str(N)+'||'\n",
    "\n",
    "table_Markdown += '\\n'\n",
    "\n",
    "table_Markdown += '|:---:|:---:|:---:|:---:|'\n",
    "for N in N_list :\n",
    "    table_Markdown += ':---:|:---:|'\n",
    "\n",
    "table_Markdown += '\\n'\n",
    "\n",
    "table_Markdown += '|||$p_T$|$\\mathcal{N}_0$|'\n",
    "for N in N_list :\n",
    "    table_Markdown += '$p_T$|$\\mathcal{N}_0$|'\n",
    "\n",
    "table_Markdown += '\\n'\n",
    "\n",
    "\n",
    "for scheme in schemes_list :\n",
    "    table_Markdown += '|'+scheme+'|'\n",
    "    for t_eps in eps_list :\n",
    "        if t_eps != eps_list[0] :\n",
    "          table_Markdown += '||'\n",
    "        table_Markdown += r'$\\varepsilon = '+formatting_number(t_eps)+'$|'\n",
    "        if scheme in ['EM','EI'] :\n",
    "            table_Markdown += formatting_number(W2_dict['SDE']['True'][str(t_eps)])+'|'\n",
    "            table_Markdown += formatting_number(W2_dict['SDE']['False'][str(t_eps)])+'|'\n",
    "        if scheme in ['Euler','Heun'] :\n",
    "            table_Markdown += formatting_number(W2_dict['ODE']['True'][str(t_eps)])+'|'\n",
    "            table_Markdown += formatting_number(W2_dict['ODE']['False'][str(t_eps)])+'|'\n",
    "        for N in N_list :\n",
    "          table_Markdown += formatting_number(W2_dict[scheme]['True'][str(N)][str(t_eps)])+'|'\n",
    "          table_Markdown += formatting_number(W2_dict[scheme]['False'][str(N)][str(t_eps)])+'|'\n",
    "        table_Markdown += '\\n'\n",
    "\n",
    "\n",
    "\n",
    "Markdown(table_Markdown)"
   ]
  },
  {
   "cell_type": "markdown",
   "id": "1f55b5b2",
   "metadata": {
    "id": "1f55b5b2"
   },
   "source": [
    "### Tex table"
   ]
  },
  {
   "cell_type": "markdown",
   "id": "248770da",
   "metadata": {
    "id": "248770da"
   },
   "source": [
    "In the following, a table.tex is created and compiled (if pdflatex is available) to obtain Table 2 of [ [ 1 ] ](#ref1)."
   ]
  },
  {
   "cell_type": "code",
   "execution_count": 21,
   "id": "63484109",
   "metadata": {
    "colab": {
     "base_uri": "https://localhost:8080/"
    },
    "id": "63484109",
    "outputId": "c55eadbf-0bc0-4fa5-c294-3c3720b39c39",
    "scrolled": true
   },
   "outputs": [],
   "source": [
    "output_tex = PATH_output + 'table.tex'\n",
    "\n",
    "#preamble\n",
    "table_tex  = r'\\documentclass{article}' + '\\n'\n",
    "table_tex  += '\\n'\n",
    "table_tex  += r'\\usepackage{booktabs}' + '\\n'\n",
    "table_tex  += r'\\usepackage{multirow}' + '\\n'\n",
    "table_tex  += r'\\usepackage{graphicx}' + '\\n'\n",
    "table_tex  +='\\n'\n",
    "table_tex  += r'\\begin{document}' + '\\n'\n",
    "table_tex  +='\\n'\n",
    "#Table\n",
    "table_tex  += r'\\begin{table}' + '\\n'\n",
    "table_tex += r'\\centering' + '\\n'\n",
    "table_tex += r'\\begin{tabular}{'\n",
    "table_tex += 'l'*(len(N_list)*len(P_T)+4) + '} \\n'\n",
    "table_tex += r'\\toprule' + '\\n'\n",
    "\n",
    "table_tex += r'&'\n",
    "table_tex += r' &\\multicolumn{2}{c}{Continuous}' + '\\n'\n",
    "\n",
    "for N in N_list :\n",
    "    table_tex += r'& \\multicolumn{2}{c}{$N = '+str(N)+ r'$}' + '\\n'\n",
    "\n",
    "table_tex += r'\\\\' +'\\n'\n",
    "\n",
    "for k in range(2,len(N_list)*len(P_T)+4,2) :\n",
    "    table_tex += r'\\cmidrule(lr){'+str(k+1) +'-'+str(k+2)+ r'}' + '\\n'\n",
    "\n",
    "table_tex += r'& &$p_T$ & $\\mathcal{N}_0$ & ' + '\\n'\n",
    "for N in N_list :\n",
    "    if N == N_list[-1] :\n",
    "        table_tex += r'$p_T$ & $\\mathcal{N}_0$ \\\\' + '\\n'\n",
    "    else :\n",
    "        table_tex += r'$p_T$ & $\\mathcal{N}_0$ &' + '\\n'\n",
    "\n",
    "table_tex += r'\\midrule' + '\\n'\n",
    "\n",
    "for scheme in schemes_list :\n",
    "    table_tex += r'\\parbox[t]{2mm}{\\multirow{4}{*}{\\rotatebox[origin=c]{90}{'+scheme+r'}}}' + '\\n'\n",
    "    #Continuous column\n",
    "    for t_eps in eps_list :\n",
    "        table_tex += r'& \\multicolumn{1}{|l}{$\\varepsilon = '+formatting_number(t_eps)+'$}\\n'\n",
    "\n",
    "        if scheme in ['EM','EI'] :\n",
    "            table_tex += ' & '+formatting_number(W2_dict['SDE']['True'][str(t_eps)])+'\\n'\n",
    "            table_tex += ' & '+formatting_number(W2_dict['SDE']['False'][str(t_eps)])+'\\n'\n",
    "        if scheme in ['Euler','Heun'] :\n",
    "            table_tex += ' & '+formatting_number(W2_dict['ODE']['True'][str(t_eps)])+'\\n'\n",
    "            table_tex += ' & '+formatting_number(W2_dict['ODE']['False'][str(t_eps)])+'\\n'\n",
    "        for N in N_list :\n",
    "            table_tex += ' & '+formatting_number(W2_dict[scheme]['True'][str(N)][str(t_eps)])+'\\n'\n",
    "            table_tex += ' & '+formatting_number(W2_dict[scheme]['False'][str(N)][str(t_eps)])+'\\n'\n",
    "        table_tex +=  r'\\\\' + '\\n'\n",
    "\n",
    "table_tex += r'\\bottomrule' + '\\n'\n",
    "table_tex += r'\\end{tabular}' + '\\n'\n",
    "table_tex += r'\\end{table}' + '\\n'\n",
    "\n",
    "table_tex += r'\\end{document}'\n",
    "\n",
    "if os.path.exists(output_tex) :\n",
    "    os.remove(output_tex)\n",
    "\n",
    "f = open(output_tex, \"a\")\n",
    "f.write(table_tex)\n",
    "f.close()"
   ]
  },
  {
   "cell_type": "markdown",
   "id": "55ecb89d",
   "metadata": {},
   "source": [
    "The following cell compiles the file .tex if latex is available."
   ]
  },
  {
   "cell_type": "code",
   "execution_count": null,
   "id": "edecf2b4",
   "metadata": {},
   "outputs": [],
   "source": [
    "from distutils.spawn import find_executable\n",
    "if find_executable('latex'):\n",
    "    os.system('pdflatex -v '+output_tex)"
   ]
  },
  {
   "cell_type": "markdown",
   "id": "bd2c20ba",
   "metadata": {
    "id": "bd2c20ba"
   },
   "source": [
    "# Bibliography"
   ]
  },
  {
   "cell_type": "markdown",
   "id": "f0f8833d",
   "metadata": {
    "id": "f0f8833d"
   },
   "source": [
    "<a id=\"ref1\"/>\n",
    "\n",
    "[1] [Emile Pierret,Bruno Galerne (2024). Diffusion models for Gaussian distributions: Exact solutions and Wasserstein errors. arXiv preprint arXiv:2405.14250.](https://arxiv.org/abs/2405.14250)\n",
    "\n",
    "<a id=\"ref2\"/>\n",
    "\n",
    "[2] [Yang Song, Jascha Sohl-Dickstein, Diederik P. Kingma, Abhishek Kumar, Stefano Ermon, Ben Poole (2021). Score-Based Generative Modeling through Stochastic Differential Equations. ICLR](https://iclr.cc/virtual/2021/oral/3402)"
   ]
  }
 ],
 "metadata": {
  "colab": {
   "provenance": []
  },
  "kernelspec": {
   "display_name": "Python 3 (ipykernel)",
   "language": "python",
   "name": "python3"
  },
  "language_info": {
   "codemirror_mode": {
    "name": "ipython",
    "version": 3
   },
   "file_extension": ".py",
   "mimetype": "text/x-python",
   "name": "python",
   "nbconvert_exporter": "python",
   "pygments_lexer": "ipython3",
   "version": "3.11.7"
  }
 },
 "nbformat": 4,
 "nbformat_minor": 5
}
