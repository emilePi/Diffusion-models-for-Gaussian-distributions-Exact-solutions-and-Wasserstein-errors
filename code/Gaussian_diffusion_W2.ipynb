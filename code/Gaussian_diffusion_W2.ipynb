{
 "cells": [
  {
   "cell_type": "markdown",
   "id": "589d4ad7",
   "metadata": {
    "id": "589d4ad7"
   },
   "source": [
    "# _Diffusion models for Gaussian distributions: Exact solutions and Wasserstein errors_ [ [ 1 ] ](#ref1)"
   ]
  },
  {
   "cell_type": "markdown",
   "id": "b5f348cb",
   "metadata": {
    "id": "b5f348cb"
   },
   "source": [
    "The following code provides figures and table of the article [ [ 1 ] ](#ref1). You can use it with any covariance matrix (provided eigenvalues can be computed). All details are given to extend our analysis to other numerical schemes."
   ]
  },
  {
   "cell_type": "markdown",
   "id": "3b848ee9",
   "metadata": {
    "id": "3b848ee9"
   },
   "source": [
    "### Reminders of the theory"
   ]
  },
  {
   "cell_type": "markdown",
   "id": "4ff05ff0",
   "metadata": {
    "id": "4ff05ff0"
   },
   "source": [
    "We consider the Variance preserving (VP) forward process:\n",
    "\n",
    "\\begin{equation}\n",
    "d\\boldsymbol{x}_t  =-\\beta_t \\boldsymbol{x}_t dt + \\sqrt{2\\beta_t}d\\boldsymbol{w}_t, \\quad 0 \\leq t \\leq T, \\quad  \\boldsymbol{x}_0 \\sim p_\\text{data}. \\tag{1}\n",
    "\\end{equation}\n",
    "\n",
    "Supposing that $p_\\text{data} = \\mathcal{N}(\\boldsymbol{0},\\boldsymbol{\\Sigma})$, the law of $\\boldsymbol{x}_t$ is $p_t = \\mathcal{N}(\\boldsymbol{0},\\boldsymbol{\\Sigma}_t)$ with\n",
    "\\begin{equation}\n",
    "\\boldsymbol{\\Sigma}_t = e^{-2B_t}\\boldsymbol{\\Sigma} + (1-e^{-2B_t})\\boldsymbol{I}\\tag{2}\n",
    "\\end{equation}\n",
    "\n",
    "where $B_t = \\int_0^t \\beta_u$ and consequently the score function verifies $\\nabla \\log p_t(\\boldsymbol{x}) = -\\boldsymbol{\\Sigma}^{-1}_t\\boldsymbol{x}$."
   ]
  },
  {
   "cell_type": "markdown",
   "id": "41401fa7",
   "metadata": {
    "id": "41401fa7"
   },
   "source": [
    "The associated backward SDE is\n",
    "\n",
    "\\begin{equation}\n",
    " d\\tilde{\\boldsymbol{y}}_t = \\beta_{T-t}(\\tilde{\\boldsymbol{y}}_t + 2 \\log p_{T-t}(\\tilde{\\boldsymbol{y}}_t))dt + \\sqrt{2\\beta_{T-t}}d\\boldsymbol{w}_t, \\quad0 \\leq t < T \\tag{3}\n",
    "\\end{equation}\n",
    "\n",
    "and the reverse flow ODE is\n",
    "\n",
    "\\begin{equation}\n",
    " \td\\widehat{\\boldsymbol{y}}_t = \\left[\\beta_{T-t}\\widehat{\\boldsymbol{y}}_t +\\beta_{T-t} \\nabla_{\\widehat{\\boldsymbol{y}}}\\log p_{T-t}(\\widehat{\\boldsymbol{y}}_t)\\right]dt, \\quad 0 \\leq t < T. \\tag{4}\n",
    "\\end{equation}"
   ]
  },
  {
   "cell_type": "markdown",
   "id": "9aaac493",
   "metadata": {
    "id": "9aaac493"
   },
   "source": [
    "We study the errors of the diffusion models by studying the Wasserstein-2 distance. For two centered Gaussians $\\mathcal{N}(\\boldsymbol{0},\\boldsymbol{\\Sigma}_1)$ and $\\mathcal{N}(\\boldsymbol{0},\\boldsymbol{\\Sigma}_2)$ such that $\\boldsymbol{\\Sigma}_1,\\boldsymbol{\\Sigma}_2$ are simultaneously diagonalizable with respective eigenvalues $(\\lambda_{i,1})_{1\\leq i \\leq d}$ and $(\\lambda_{i,2})_{1\\leq i \\leq d}$,\n",
    "\n",
    "\\begin{equation}\n",
    "\t\\mathbf{W}_2(\\mathcal{N}(\\boldsymbol{0},\\boldsymbol{\\Sigma}_2),\\mathcal{N}(\\boldsymbol{0},\\boldsymbol{\\Sigma}_1)) =  \\sqrt{\\sum_{1 \\leq i \\leq d} (\\sqrt{\\lambda_{i,1}}-\\sqrt{\\lambda_{i,2}})^2}. \\tag{5}\n",
    "\\end{equation}"
   ]
  },
  {
   "cell_type": "code",
   "execution_count": 1,
   "id": "73d64c2b",
   "metadata": {
    "id": "73d64c2b"
   },
   "outputs": [],
   "source": [
    "def W2(lamb1,lamb2) :\n",
    "    return np.sqrt ( np.sum( (np.sqrt(lamb1)-np.sqrt(lamb2))**2 ) )"
   ]
  },
  {
   "cell_type": "markdown",
   "id": "e244d4fd",
   "metadata": {
    "id": "e244d4fd"
   },
   "source": [
    "## Packages"
   ]
  },
  {
   "cell_type": "code",
   "execution_count": null,
   "id": "lY9GGzds3P9L",
   "metadata": {
    "colab": {
     "base_uri": "https://localhost:8080/"
    },
    "id": "lY9GGzds3P9L",
    "outputId": "de1e564a-7db4-485b-ca89-d6f0ceb0748a"
   },
   "outputs": [],
   "source": [
    "!pip install scienceplots"
   ]
  },
  {
   "cell_type": "code",
   "execution_count": 3,
   "id": "af22a4e6",
   "metadata": {
    "id": "af22a4e6"
   },
   "outputs": [],
   "source": [
    "import pylab as plt\n",
    "import numpy as np\n",
    "import scienceplots\n",
    "plt.style.use('science')\n",
    "from IPython.display import display, Markdown\n",
    "import os\n",
    "plt.rcParams.update(plt.rcParamsDefault)"
   ]
  },
  {
   "cell_type": "markdown",
   "id": "d0d47fa0",
   "metadata": {},
   "source": [
    "# Load data"
   ]
  },
  {
   "cell_type": "markdown",
   "id": "e094a09f",
   "metadata": {
    "id": "e094a09f"
   },
   "source": [
    "The Gaussian distribution is known through the eigenvalues of its covariance matrix $\\boldsymbol{\\Sigma}$. ```cifar10.npy``` corresponds to the Gaussian distribution fitted to the CIFAR-10 dataset. This the list of empirical covariance eigenvalues of the normalized images of the dataset. ```ADSN.npy``` corresponds to the ADSN distribution described in the paper."
   ]
  },
  {
   "cell_type": "code",
   "execution_count": 4,
   "id": "b6c2ac3c",
   "metadata": {
    "id": "b6c2ac3c"
   },
   "outputs": [],
   "source": [
    "PATH_data ='./'\n",
    "\n",
    "lamb = np.load(PATH_data+'cifar10.npy')\n",
    "#lamb = np.load(PATH_data+'ADSN.npy')"
   ]
  },
  {
   "cell_type": "markdown",
   "id": "b802a10b",
   "metadata": {},
   "source": [
    "Bellow, you can choose the outputs path."
   ]
  },
  {
   "cell_type": "code",
   "execution_count": 5,
   "id": "2ca0b98a",
   "metadata": {},
   "outputs": [],
   "source": [
    "PATH_output = './'"
   ]
  },
  {
   "cell_type": "markdown",
   "id": "0e083bdb",
   "metadata": {
    "id": "0e083bdb"
   },
   "source": [
    "## Parametrization"
   ]
  },
  {
   "cell_type": "markdown",
   "id": "4420cc91",
   "metadata": {
    "id": "4420cc91"
   },
   "source": [
    "Let consider $\\beta_t$ linear of the form: $\\beta_t = t \\mapsto \\beta_{\\text{min}} + \\left(\\beta_{\\text{max}}-\\beta_{\\text{min}}\\right)t$ with $\\beta_\\text{min} = 0.05$ and $\\beta_\\text{max} = 10$. The values are from [ [ 2 ] ](#ref2), up to a factor 2 to be consistent with our VP SDE. We introduce also\n",
    "\n",
    "$$B_t = \\int_0^t \\beta_u du = \\beta_{\\text{min}}t + \\left(\\beta_{\\text{max}}-\\beta_{\\text{min}}\\right)\\frac{t^2}{2}.$$"
   ]
  },
  {
   "cell_type": "code",
   "execution_count": 6,
   "id": "05b2b44d",
   "metadata": {
    "id": "05b2b44d"
   },
   "outputs": [],
   "source": [
    "T = 1.\n",
    "beta_min = 0.1/2\n",
    "beta_max = 20/2\n",
    "\n",
    "def beta(t) :\n",
    "    return beta_min + t*(beta_max-beta_min)\n",
    "\n",
    "def B(t) :\n",
    "    return beta_min*t +(beta_max-beta_min)*t**2/2"
   ]
  },
  {
   "cell_type": "markdown",
   "id": "5faf0a10",
   "metadata": {
    "id": "5faf0a10"
   },
   "source": [
    "# Forward process"
   ]
  },
  {
   "cell_type": "markdown",
   "id": "4c1adbc5",
   "metadata": {
    "id": "4c1adbc5"
   },
   "source": [
    "$p_t = \\mathcal{N}(\\boldsymbol{0},\\boldsymbol{\\Sigma}_t)$ with $\\boldsymbol{\\Sigma}_t = e^{-2B_t}\\boldsymbol{\\Sigma} + (1-e^{-2B_t})\\boldsymbol{I}$. Let consider the eigenvalues of $\\left(\\lambda_i\\right)_{1 \\leq i \\leq d}$ of $\\boldsymbol{\\Sigma}$.  $\\boldsymbol{\\Sigma}_t$ is diagonalizable in the same orthonormal basis and the $i$th eigenvalue of $\\Sigma_t$ is\n",
    "\n",
    "\\begin{equation}\n",
    "\\lambda_i^t = e^{-2B_t}\\lambda_i + (1-e^{-2B_t}). \\tag{6}\n",
    "\\end{equation}"
   ]
  },
  {
   "cell_type": "code",
   "execution_count": 7,
   "id": "bbd84604",
   "metadata": {
    "id": "bbd84604"
   },
   "outputs": [],
   "source": [
    "def lamb_Sigma_t(lamb,t) :\n",
    "    ebt = np.exp(-2*B(t))\n",
    "    return ebt*lamb+(1-ebt)"
   ]
  },
  {
   "cell_type": "markdown",
   "id": "e3a9c203",
   "metadata": {
    "id": "e3a9c203"
   },
   "source": [
    "# Continuous Initialization error"
   ]
  },
  {
   "cell_type": "markdown",
   "id": "c0297e89",
   "metadata": {
    "id": "c0297e89"
   },
   "source": [
    "### Continuous SDE"
   ]
  },
  {
   "cell_type": "markdown",
   "id": "fb9e9954",
   "metadata": {
    "id": "fb9e9954"
   },
   "source": [
    "With an initialization $\\tilde{\\boldsymbol{y}}_0 \\sim \\mathcal{N}(\\boldsymbol{0},\\boldsymbol{I})$, the solution $y_t$ of Equation (3) follows the law $\\tilde{q}_{t} = \\tilde{p}_{T-t}$ where $\\tilde{p}_t$ is the Gaussian distribution $\\mathcal{N}(\\boldsymbol{0},\\boldsymbol{\\tilde{\\Sigma}}_t)$ and\n",
    "\n",
    "\\begin{equation}\n",
    "\\boldsymbol{\\tilde{\\Sigma}}_t = \\boldsymbol{\\Sigma}_{t}+e^{-2(B_{T}-B_t)}\\boldsymbol{\\Sigma}^2_{t}\\boldsymbol{\\Sigma}_T^{-1}(\\boldsymbol{\\Sigma}^{-1}_T-\\boldsymbol{I}). \\tag{7}\n",
    "\\end{equation}\n",
    "\n",
    "Consequently, $\\boldsymbol{\\tilde{\\Sigma}}_t$ is diagonalizable and we can compute its eigenvalues as follows."
   ]
  },
  {
   "cell_type": "code",
   "execution_count": 8,
   "id": "cc615c7e",
   "metadata": {
    "id": "cc615c7e"
   },
   "outputs": [],
   "source": [
    "def lamb_SDE_t(lamb,t) :\n",
    "\n",
    "    lamb_t = lamb_Sigma_t(lamb,t)\n",
    "    lamb_T = lamb_Sigma_t(lamb,T)\n",
    "\n",
    "    return lamb_t+np.exp(-2*(B(T)-B(t)))*lamb_t**2/lamb_T*(1/lamb_T-1)"
   ]
  },
  {
   "cell_type": "markdown",
   "id": "0d167848",
   "metadata": {
    "id": "0d167848"
   },
   "source": [
    "### Continuous ODE"
   ]
  },
  {
   "cell_type": "markdown",
   "id": "fea36ea2",
   "metadata": {
    "id": "fea36ea2"
   },
   "source": [
    "With an initialization $\\widehat{\\boldsymbol{y}}_0 \\sim \\mathcal{N}(\\boldsymbol{0},\\boldsymbol{I})$, the solution $\\widehat{y}_t$ of Equation (4) follows the law $\\widehat{q}_{t} = \\widehat{p}_{T-t}$ where $\\widehat{p}_t$ is the Gaussian distribution $\\mathcal{N}(\\boldsymbol{0},\\boldsymbol{\\widehat{\\Sigma}}_t)$ and\n",
    "\n",
    "\\begin{equation}\n",
    "\\boldsymbol{\\widehat{\\Sigma}}_t = \\boldsymbol{\\Sigma}^{-1}_T\\boldsymbol{\\Sigma}_{t}. \\tag{8}\n",
    "\\end{equation}\n",
    "\n",
    "Consequently, $\\boldsymbol{\\tilde{\\Sigma}}_t$ is diagonalizable and we can compute its eigenvalues as follows."
   ]
  },
  {
   "cell_type": "code",
   "execution_count": 9,
   "id": "cc58b123",
   "metadata": {
    "id": "cc58b123"
   },
   "outputs": [],
   "source": [
    "def lamb_ODE_t(lamb,t) :\n",
    "\n",
    "    lamb_t = lamb_Sigma_t(lamb,t)\n",
    "    lamb_T = lamb_Sigma_t(lamb,T)\n",
    "\n",
    "\n",
    "    return lamb_t/lamb_T"
   ]
  },
  {
   "cell_type": "markdown",
   "id": "cc3ff10f",
   "metadata": {
    "id": "cc3ff10f"
   },
   "source": [
    "# Discretization of the equations"
   ]
  },
  {
   "cell_type": "markdown",
   "id": "84f973a6",
   "metadata": {
    "id": "84f973a6"
   },
   "source": [
    "## Discretization of the bacward SDE"
   ]
  },
  {
   "cell_type": "markdown",
   "id": "3c2e0039",
   "metadata": {
    "id": "3c2e0039"
   },
   "source": [
    "Under Gaussian assumption, Equation (3) becomes:\n",
    "\n",
    "\\begin{equation}\n",
    " d\\tilde{\\boldsymbol{y}}_t = \\beta_{T-t}(\\tilde{\\boldsymbol{y}}_t - 2\\boldsymbol{\\Sigma}^{-1}_{T-t}(\\tilde{\\boldsymbol{y}}_t))dt + \\sqrt{2\\beta_{T-t}}d\\boldsymbol{w}_t, \\quad0 \\leq t < T. \\tag{9}\n",
    "\\end{equation}\n",
    "\n",
    "We study the Euler-Maruyama's scheme (EM) and the Exponential Integrator scheme (EI)."
   ]
  },
  {
   "cell_type": "markdown",
   "id": "f27d20ae",
   "metadata": {
    "id": "f27d20ae"
   },
   "source": [
    "### Euler Maruyama's scheme"
   ]
  },
  {
   "cell_type": "markdown",
   "id": "588765c1",
   "metadata": {
    "id": "588765c1"
   },
   "source": [
    "The EM discretization of Equation (9) is\n",
    "\\begin{equation}\n",
    "\\boldsymbol{y}^{\\text{EM},k+1} = \\boldsymbol{y}^{\\text{EM},k} + \\Delta_t \\beta_{T-t_k}\\left(\\boldsymbol{y}_{k}-2\\Sigma_{T-t_k}^{-1}\\boldsymbol{y}^{\\text{EM},k}\\right)+ \\sqrt{2\\Delta_t \\beta_{T-t_k}}\\boldsymbol{z}_k, \\quad \\boldsymbol{z}_k \\sim \\mathcal{N}_0. \\tag{10}\n",
    "\\end{equation}\n",
    "\n",
    "Consequently, the $i$th eigenvalue $\\lambda_i^{EM,k}$ of the covariance matrix of $\\left(\\boldsymbol{y}^{k,\\text{EM}}\\right)_{0 \\leq k \\leq N-1}$ verifies\n",
    "\n",
    "\\begin{equation}\n",
    "\\lambda_i^{\\text{EM},k+1} = \\left(1+\\Delta_t \\beta_{T-t_k}\\left(1-\\tfrac{2}{\\lambda_i^{T-t_k}}\\right)\\right)^2\\lambda_i^{\\text{EM},k} + 2\\Delta_t \\beta_{T-t_k} \\tag{11}\n",
    "\\end{equation}\n",
    "\n",
    "with $\\lambda_i^{t}$ $i$th eigenvalue of $\\boldsymbol{\\Sigma}_t$ and $\\lambda_i^{\\text{EM},0}$ initialized at $1$ or $\\lambda_i^{T}$ depending on the choice of initialization. The following compute the Wasserstein error at each step."
   ]
  },
  {
   "cell_type": "code",
   "execution_count": 10,
   "id": "ee7dc5e5",
   "metadata": {
    "id": "ee7dc5e5"
   },
   "outputs": [],
   "source": [
    "def W2_EM(N,lamb,t_eps=0,p_T = False,all_t = True) :\n",
    "\n",
    "    tk = np.array([(T-t_eps)*k/(N-1) for k in range(N)])\n",
    "    Delta_t = tk[1]-tk[0]\n",
    "\n",
    "    #Initialization at p_T\n",
    "    if p_T :\n",
    "        lamb_EM = lamb_Sigma_t(lamb,T)\n",
    "    #Initialization at N_0\n",
    "    else :\n",
    "        lamb_EM = np.ones_like(lamb)\n",
    "\n",
    "    if all_t :\n",
    "        W2_EM_list = [W2(lamb_EM,lamb_Sigma_t(lamb,T))]\n",
    "\n",
    "    for k in range(N-1) :\n",
    "        lamb_T_tk = lamb_Sigma_t(lamb,T-tk[k])\n",
    "        beta_T_tk = beta(T-tk[k])\n",
    "\n",
    "        lamb_EM =  (1+Delta_t*beta_T_tk*(1-2/lamb_T_tk))**2*lamb_EM + 2*Delta_t*beta_T_tk\n",
    "\n",
    "        if all_t :\n",
    "            W2_EM_list.append(W2(lamb_EM,lamb_Sigma_t(lamb,T-tk[k+1])))\n",
    "\n",
    "    if all_t :\n",
    "        W2_EM_list.reverse()\n",
    "        return W2_EM_list\n",
    "\n",
    "    else :\n",
    "        return W2(lamb_EM,lamb)"
   ]
  },
  {
   "cell_type": "markdown",
   "id": "2a63e142",
   "metadata": {
    "id": "2a63e142"
   },
   "source": [
    "### Exponential Integrator (EI) scheme"
   ]
  },
  {
   "cell_type": "markdown",
   "id": "4a7809db",
   "metadata": {
    "id": "4a7809db"
   },
   "source": [
    "The EI discretization of Equation (9) is\n",
    "\\begin{equation}\n",
    "\\boldsymbol{y}^{\\text{EI},k+1} = \\boldsymbol{y}^{\\text{EI},k} + \\gamma_{1,k}\\left(\\boldsymbol{y}^{\\text{EI},k+1}-2\\Sigma_{T-t_k}^{-1}\\boldsymbol{y}^{\\text{EI},k}\\right)+ \\sqrt{2\\gamma_{2,k}}\\boldsymbol{z}_k \\quad \\boldsymbol{z}_k\\sim \\mathcal{N}_0 \\tag{12}\n",
    "\\end{equation}\n",
    "\n",
    "with\n",
    "$\\gamma_{1,k}  = \\exp\\left(B_{T-t_{k}}-B_{T-t_{k+1}}\\right)-1$ and $\\gamma_{2,k}  = \\frac{1}{2}\\left[\\exp\\left(2\\left(B_{T-t_{k}}-B_{T-t_{k+1}}\\right)\\right)-1\\right]$.\n",
    "\n",
    "Consequently, the $i$th eigenvalue $\\lambda_i^{\\text{EI},k}$ of the covariance matrix of $\\left(\\boldsymbol{y}^{k,\\text{EI}}\\right)_{0 \\leq k \\leq N-1}$ verifies\n",
    "\n",
    "\\begin{equation}\n",
    "\\lambda_i^{\\text{EI},k+1} = \\left(1+\\gamma_{1,k}\\left(1-\\tfrac{2}{\\lambda_i^{T-t_k}}\\right)\\right)^2\\lambda_i^{\\text{EI},k}+ 2\\gamma_{2,k} \\tag{13}\n",
    "\\end{equation}\n",
    "\n",
    "with $\\lambda_i^{t}$ $i$th eigenvalue of $\\boldsymbol{\\Sigma}_t$ and $\\lambda_i^{\\text{EI},0}$ initialized at $1$ or $\\lambda_i^{T}$ depending on the choice of initialization. The following compute the Wasserstein error at each step.\n"
   ]
  },
  {
   "cell_type": "code",
   "execution_count": 11,
   "id": "7c503424",
   "metadata": {
    "id": "7c503424"
   },
   "outputs": [],
   "source": [
    "def W2_EI(N,lamb,t_eps=0,p_T = False,all_t = True) :\n",
    "\n",
    "    tk = np.array([(T-t_eps)*k/(N-1) for k in range(N)])\n",
    "    Delta_t = tk[1]-tk[0]\n",
    "\n",
    "    #Initialization at p_T\n",
    "    if p_T :\n",
    "        lamb_EI = lamb_Sigma_t(lamb,T)\n",
    "    #Initialization at N_0\n",
    "    else :\n",
    "        lamb_EI = np.ones_like(lamb)\n",
    "\n",
    "    if all_t :\n",
    "        W2_EI_list = [W2(lamb_EI,lamb_Sigma_t(lamb,T))]\n",
    "\n",
    "    for k in range(N-1) :\n",
    "        gamma_1_k = np.exp(B(T-tk[k])-B(T-tk[k+1]))-1\n",
    "        gamma_2_k = (np.exp(2*(B(T-tk[k])-B(T-tk[k+1])))-1)/2\n",
    "\n",
    "        lamb_T_tk =  lamb_Sigma_t(lamb,T-tk[k])\n",
    "\n",
    "        beta_T_tk = beta(T-tk[k])\n",
    "\n",
    "\n",
    "        lamb_EI = (1+gamma_1_k*(1-2/lamb_T_tk))**2*lamb_EI + 2*gamma_2_k\n",
    "\n",
    "        if all_t :\n",
    "\n",
    "            W2_EI_list.append(W2(lamb_EI,lamb_Sigma_t(lamb,T-tk[k+1])))\n",
    "\n",
    "    if all_t :\n",
    "        W2_EI_list.reverse()\n",
    "\n",
    "        return W2_EI_list\n",
    "\n",
    "    else :\n",
    "\n",
    "        return W2(lamb_EI,lamb)"
   ]
  },
  {
   "cell_type": "markdown",
   "id": "20ffa764-6778-47ad-b2ae-0c0483564f40",
   "metadata": {},
   "source": [
    "### DDPM scheme"
   ]
  },
  {
   "cell_type": "markdown",
   "id": "85442af0-6566-4420-9791-d4735f748aae",
   "metadata": {},
   "source": [
    "Denoting $\\beta^\\text{DDPM}_k = \\Delta_t\\beta\\left(\\frac{k}{N}\\right)$,\n",
    "\n",
    "\\begin{equation}\n",
    "\\tag{14}\n",
    "\\boldsymbol{y}^{\\text{DDPM},k+1}  = \\frac{1}{\\sqrt{1-\\beta_k^\\text{DDPM}}}\\left(\\boldsymbol{y}^{\\text{DDPM},k}- \\beta_k^\\text{DDPM} \\boldsymbol{\\Sigma}^{-1}_{T-t_k}\\boldsymbol{y}^{\\text{DDPM},k}\\right) + \\sqrt{\\beta^\\text{DDPM}_k}\\boldsymbol{z}_k,~\\boldsymbol{z}_k \\sim \\mathcal{N}_0\n",
    "\\end{equation}\n",
    "\n",
    "Consequently, the $i$th eigenvalue $\\lambda_i^{\\text{DDPM},k}$ of the covariance matrix of $\\left(\\boldsymbol{y}^{k,\\text{DDPM}}\\right)_{0 \\leq k \\leq N-1}$ verifies\n",
    "\n",
    "\\begin{equation}\n",
    "\\lambda_i^{\\text{DDPM},k+1}  = \\frac{1}{1-\\beta_k^\\text{DDPM}} \\left(1- \\tfrac{\\beta_k^\\text{DDPM}}{\\lambda_{i,T-t_k}}\\right)^2\\lambda_i^{\\text{DDPM},k}+ \\beta^\\text{DDPM}_k\n",
    "\\tag{15}\n",
    "\\end{equation}\n",
    "\n",
    "with $\\lambda_i^{t}$ $i$th eigenvalue of $\\boldsymbol{\\Sigma}_t$ and $\\lambda_i^{\\text{DDPM},0}$ initialized at $1$ or $\\lambda_i^{T}$ depending on the choice of initialization. The following compute the Wasserstein error at each step.\n"
   ]
  },
  {
   "cell_type": "code",
   "execution_count": null,
   "id": "5840dcb1-721f-4272-96c4-ee4ec766beb3",
   "metadata": {},
   "outputs": [],
   "source": []
  },
  {
   "cell_type": "code",
   "execution_count": null,
   "id": "bc3ee25a-3223-4258-b6c4-ac31f5f789a2",
   "metadata": {},
   "outputs": [],
   "source": []
  },
  {
   "cell_type": "code",
   "execution_count": 13,
   "id": "49f517b6-4773-4f09-b212-fd08dc534ef5",
   "metadata": {},
   "outputs": [],
   "source": [
    "def W2_DDPM(N,lamb,t_eps=0,p_T = False,all_t = True) :\n",
    "\n",
    "    tk = np.array([(T-t_eps)*k/(N-1) for k in range(N)])\n",
    "    Delta_t = tk[1]-tk[0]\n",
    "\n",
    "    #beta_t_DDPM = 2*Delta_t*beta(tk)\n",
    "\n",
    "    #Initialization at p_T\n",
    "    if p_T :\n",
    "        lamb_DDPM = lamb_Sigma_t(lamb,T)\n",
    "    #Initialization at N_0\n",
    "    else :\n",
    "        lamb_DDPM = np.ones_like(lamb)\n",
    "\n",
    "    if all_t :\n",
    "        W2_DDPM_list = [W2(lamb_DDPM,lamb_Sigma_t(lamb,T))]\n",
    "\n",
    "    betas = []\n",
    "    for k in range(N-1) :\n",
    "        lamb_T_tk = lamb_Sigma_t(lamb,T-tk[k])\n",
    "        \n",
    "        beta_ddpm  = 2*Delta_t*beta(T-tk[k])\n",
    "\n",
    "        alpha_ddpm = 1-beta_ddpm\n",
    "\n",
    "        lamb_DDPM =  (1/np.sqrt(alpha_ddpm)*(1-beta_ddpm/lamb_T_tk))**2*lamb_DDPM + beta_ddpm\n",
    "\n",
    "        if all_t :\n",
    "            W2_DDPM_list.append(W2(lamb_DDPM,lamb_Sigma_t(lamb,T-tk[k+1])))\n",
    "\n",
    "    if all_t :\n",
    "        W2_DDPM_list.reverse()\n",
    "        return W2_DDPM_list\n",
    "\n",
    "    else :\n",
    "        return W2(lamb_DDPM,lamb)"
   ]
  },
  {
   "cell_type": "markdown",
   "id": "cd1a21f5",
   "metadata": {
    "id": "cd1a21f5"
   },
   "source": [
    "## Discretization of the flow ODE"
   ]
  },
  {
   "cell_type": "markdown",
   "id": "9526c73f",
   "metadata": {
    "id": "9526c73f"
   },
   "source": [
    "Under Gaussian assumption, Equation (4) becomes\n",
    "\n",
    "\\begin{equation}\n",
    " \td\\widehat{\\boldsymbol{y}}_t = \\left[\\beta_{T-t}\\widehat{\\boldsymbol{y}}_t -\\beta_{T-t} \\boldsymbol{\\Sigma}^{-1}_{T-t}(\\widehat{\\boldsymbol{y}}_t)\\right]dt, \\quad 0 \\leq t < T. \\tag{15}\n",
    "\\end{equation}\n",
    "\n",
    "We study the Euler scheme and the Heun's scheme."
   ]
  },
  {
   "cell_type": "markdown",
   "id": "cc47120e",
   "metadata": {
    "id": "cc47120e"
   },
   "source": [
    "## Euler scheme"
   ]
  },
  {
   "cell_type": "markdown",
   "id": "399bc3f0",
   "metadata": {
    "id": "399bc3f0"
   },
   "source": [
    "The EM discretization of Equation (14) is\n",
    "\n",
    "\\begin{equation}\n",
    "\\boldsymbol{y}^{\\text{Euler},k+1} = \\boldsymbol{y}^{\\text{Euler},k}+\\Delta_t\\beta_{T-t_k}\\left(\\boldsymbol{y}^{\\text{Euler},k}-\\Sigma^{-1}_{T-t_k}\\boldsymbol{y}^{\\text{Euler},k}\\right). \\tag{16}\n",
    "\\end{equation}\n",
    "\n",
    "Consequently, the $i$th eigenvalue $\\lambda_i^{Euler,k}$ of the covariance matrix of $\\left(\\boldsymbol{y}^{k,\\text{Euler}}\\right)_{0 \\leq k \\leq N-1}$ verifies\n",
    "\n",
    "\\begin{equation}\n",
    "\\lambda_i^{\\text{Euler},k+1} =\\left(1+\\Delta_t\\beta_{T-t_k}\\left(1-\\tfrac{1}{\\lambda_i^{T-t_k}}\\right)\\right)^2\\lambda_i^{\\text{Euler},k} \\tag{17}\n",
    "\\end{equation}\n",
    "\n",
    "with $\\lambda_i^{t}$ $i$th eigenvalue of $\\boldsymbol{\\Sigma}_t$ and $\\lambda_i^{\\text{Euler},0}$ initialized at $1$ or $\\lambda_i^{T}$ depending on the choice of initialization. The following compute the Wasserstein error at each step."
   ]
  },
  {
   "cell_type": "code",
   "execution_count": 14,
   "id": "6f8fe791",
   "metadata": {
    "id": "6f8fe791"
   },
   "outputs": [],
   "source": [
    "def W2_Euler(N,lamb,t_eps=0,p_T = False,all_t = True) :\n",
    "\n",
    "    tk = np.array([(T-t_eps)*k/(N-1) for k in range(N)])\n",
    "    Delta_t = tk[1]-tk[0]\n",
    "\n",
    "    #Initialization at p_T\n",
    "    if p_T :\n",
    "        lamb_Euler = lamb_Sigma_t(lamb,T)\n",
    "    #Initialization at N_0\n",
    "    else :\n",
    "        lamb_Euler = np.ones_like(lamb)\n",
    "\n",
    "    if all_t :\n",
    "        W2_Euler_list = [W2(lamb_Euler,lamb_Sigma_t(lamb,T))]\n",
    "\n",
    "    for k in range(N-1) :\n",
    "        lamb_T_tk =  lamb_Sigma_t(lamb,T-tk[k])\n",
    "        beta_T_tk = beta(T-tk[k])\n",
    "\n",
    "        lamb_Euler = (1+Delta_t*beta_T_tk*(1-1/lamb_T_tk))**2*lamb_Euler\n",
    "\n",
    "        if all_t :\n",
    "            W2_Euler_list.append(W2(lamb_Euler,lamb_Sigma_t(lamb,T-tk[k+1])))\n",
    "\n",
    "    if all_t :\n",
    "        W2_Euler_list.reverse()\n",
    "\n",
    "        return W2_Euler_list\n",
    "\n",
    "    else :\n",
    "\n",
    "        return W2(lamb_Euler,lamb)"
   ]
  },
  {
   "cell_type": "markdown",
   "id": "52c4dee4",
   "metadata": {
    "id": "52c4dee4"
   },
   "source": [
    "## Heun's scheme"
   ]
  },
  {
   "cell_type": "markdown",
   "id": "8a4ba547",
   "metadata": {
    "id": "8a4ba547"
   },
   "source": [
    "The EM discretization of Equation (14) is\n",
    "\n",
    "\\begin{align}\n",
    "\\tag{18}\n",
    "        y^{k+1/2,\\text{Heun}} & = y^{k,\\text{Heun}}+ \\Delta_t \\beta_{T-t_k}\\left(y^{k,\\text{Heun}}-\\boldsymbol{\\Sigma}_{T-t_k}^{-1}y^{k,\\text{Heun}}\\right) \\quad \\quad \\\\\n",
    "        y^{k+1,\\text{Heun}} & = y^{k,\\text{Heun}}+ \\frac{\\Delta_t}{2} \\beta_{T-t_k}\\left(y^{k,\\text{Heun}}-\\boldsymbol{\\Sigma}_{T-t_k}^{-1}y^{k,\\text{Heun}}\\right)+ \\frac{\\Delta_t}{2} \\beta_{T-t_{k+1}}\\left(y^{k+1/2,\\text{Heun}}-\\boldsymbol{\\Sigma}_{T-t_{k+1}}^{-1}y^{k+1/2,\\text{Heun}}\\right).\n",
    "\\end{align}\n",
    "\n",
    "\n",
    "Consequently, the $i$th eigenvalue $\\lambda_i^{\\text{Heun},k}$ of the covariance matrix of $\\left(y^{k,\\text{Heun}}\\right)_{0 \\leq k \\leq N-1}$ verifies\n",
    "\n",
    "$$\n",
    " \\lambda_i^{k+1,\\text{Heun}}  = \\left(1+ \\frac{\\Delta_t}{2} \\beta_{T-t_k}\\left(1-\\tfrac{1}{\\lambda_i^{T-t_k}}\\right)+\\frac{\\Delta_t}{2} \\beta_{T-t_{k+1}}\\left(1-\\tfrac{1}{\\lambda_i^{T-t_{k+1}}}\\right)\\left( 1+ \\Delta_t \\beta_{T-t_k}\\left(1-\\tfrac{1}{\\lambda_i^{T-t_k}}\\right)\\right)\\right)^2\\lambda_i^{k,\\text{Heun}} \\tag{19}\n",
    "$$\n",
    "\n",
    "with $\\lambda_i^{t}$ $i$th eigenvalue of $\\boldsymbol{\\Sigma}_t$. With $\\lambda_i^{\\text{Heun},0}$ initialized at $1$ or $\\lambda_i^{T}$ depending on the choice of initialization."
   ]
  },
  {
   "cell_type": "code",
   "execution_count": 15,
   "id": "f9575d1d",
   "metadata": {
    "id": "f9575d1d"
   },
   "outputs": [],
   "source": [
    "def W2_Heun(N,lamb,t_eps=0,p_T = False,all_t = True) :\n",
    "    tk = np.array([(T-t_eps)*k/(N-1) for k in range(N)])\n",
    "    Delta_t = tk[1]-tk[0]\n",
    "\n",
    "    #Initialization at p_T\n",
    "    if p_T :\n",
    "        lamb_Heun = lamb_Sigma_t(lamb,T)\n",
    "    #Initialization at N_0\n",
    "    else :\n",
    "        lamb_Heun = np.ones_like(lamb)\n",
    "\n",
    "    if all_t :\n",
    "        W2_Heun_list = [W2(lamb_Heun,lamb_Sigma_t(lamb,T))]\n",
    "\n",
    "    for k in range(N-1) :\n",
    "        lamb_T_tk =  lamb_Sigma_t(lamb,T-tk[k])\n",
    "        beta_T_tk = beta(T-tk[k])\n",
    "\n",
    "        lamb_T_tk_1 =  lamb_Sigma_t(lamb,T-tk[k+1])\n",
    "        beta_T_tk_1 = beta(T-tk[k+1])\n",
    "\n",
    "\n",
    "        lamb_Heun =(1+ Delta_t/2*beta_T_tk*(1-1/lamb_T_tk)+Delta_t/2*beta_T_tk_1*(1-1/lamb_T_tk_1)*(1+Delta_t*beta_T_tk*(1-1/lamb_T_tk)))**2*lamb_Heun\n",
    "\n",
    "        if all_t :\n",
    "            W2_Heun_list.append(W2(lamb_Heun,lamb_T_tk_1 ))\n",
    "\n",
    "    if all_t :\n",
    "        W2_Heun_list.reverse()\n",
    "\n",
    "        return W2_Heun_list\n",
    "\n",
    "    else :\n",
    "\n",
    "        return W2(lamb_Heun,lamb)"
   ]
  },
  {
   "cell_type": "markdown",
   "id": "02aa580b-dedd-4469-be47-4541df0d33e7",
   "metadata": {},
   "source": [
    "## RK4 scheme"
   ]
  },
  {
   "cell_type": "markdown",
   "id": "d403665e-da76-42c9-b381-45a483b74d0b",
   "metadata": {},
   "source": [
    "The RK4 scheme can be written as:\n",
    "\n",
    "\\begin{equation}\n",
    "\\tag{20}\n",
    "    y^{k+1,\\text{RK4}} = y^{k,\\text{RK4}} + \\frac{\\Delta_t}{6}\\left(K_1+2K_2+2K_3+K_4\\right)\n",
    "\\end{equation}\n",
    "\n",
    "with\n",
    "\n",
    "\\begin{equation}\n",
    "\\tag{21}\n",
    "\\begin{array}{ll}\n",
    "K_1 & = f(t_k,y^{k,\\text{RK4}}) \\\\\n",
    "K_2 & = f(t_{k+1/2},y^{k,\\text{RK4}}+\\tfrac{\\Delta_t}{2}K_1) \\\\\n",
    "K_3 & = f(t_{k+1/2},y^{k,\\text{RK4}}+\\tfrac{\\Delta_t}{2}K_2) \\\\\n",
    "K_4 & = f(t_{k+1},y^{k,\\text{RK4}}+\\Delta_t K_3)\n",
    "\\end{array}\n",
    "\\end{equation}\n",
    "\n",
    "and $f(t,y) = \\beta_{T-t}(I-\\boldsymbol{\\Sigma}^{-1}_{T-t})y$, $t_{k+1/2} = t_k+\\tfrac{\\Delta_t}{2}$."
   ]
  },
  {
   "cell_type": "markdown",
   "id": "3bc50ada-01d4-406b-ace3-e668e5407b36",
   "metadata": {},
   "source": [
    "Consequently, with\n",
    "\n",
    "\\begin{equation}\n",
    "\\tag{22}\n",
    "\\begin{array}{ll}\n",
    "               C_1 & = \\beta_{T-t_k}\\left(1-\\tfrac{1}{\\lambda_{i,T-t_k}}\\right) \\\\\n",
    "               C_2 & = \\beta_{T-t_{k+1/2}}\\left(1-\\tfrac{1}{\\lambda_{i,T-t_{k+1/2}}}\\right)\\left(1+\\tfrac{\\Delta_t}{2}C_1\\right) \\\\\n",
    "               C_3 & = \\beta_{T-t_{k+1/2}}\\left(1-\\tfrac{1}{\\lambda_{i,T-t_{k+1/2}}}\\right)\\left(1+\\tfrac{\\Delta_t}{2}C_2\\right) \\\\\n",
    "               C_4 & = \\beta_{T-t_{k+1}}\\left(1-\\tfrac{1}{\\lambda_{i,T-t_{k+1}}}\\right)\\left(1+\\Delta_t C_3\\right), \\\\\n",
    "\\end{array}\n",
    "\\end{equation}\n",
    "\n",
    "the $i$th eigenvalue $\\lambda_i^{\\text{RK4},k}$ of the covariance matrix of $\\left(y^{k,\\text{RK4}}\\right)_{0 \\leq k \\leq N-1}$ verifies\n",
    "\n",
    "\\begin{equation}\n",
    "\\tag{23}\n",
    " \\lambda_i^{\\text{RK4},k+1}\n",
    "                = \\left(1+\\tfrac{\\Delta_t}{6}(C_1+2C_2+2C_3+C_4)\\right)^2\\lambda_i^{\\text{RK4},k} \\\\\n",
    "\\end{equation}\n"
   ]
  },
  {
   "cell_type": "code",
   "execution_count": 16,
   "id": "b960fa10-005c-4b92-ad2a-4949a1db3fc2",
   "metadata": {},
   "outputs": [],
   "source": [
    "def W2_RK4(N,lamb,t_eps=0,p_T = False,all_t = True) :\n",
    "    tk = np.array([(T-t_eps)*k/(N-1) for k in range(N)])\n",
    "    Delta_t = tk[1]-tk[0]\n",
    "\n",
    "    #Initialization at p_T\n",
    "    if p_T :\n",
    "        lamb_RK4 = lamb_Sigma_t(lamb,T)\n",
    "    #Initialization at N_0\n",
    "    else :\n",
    "        lamb_RK4 = np.ones_like(lamb)\n",
    "\n",
    "    if all_t :\n",
    "        W2_RK4_list = [W2(lamb_RK4,lamb_Sigma_t(lamb,T))]\n",
    "\n",
    "    for k in range(N-1) :\n",
    "        lamb_T_tk = lamb_Sigma_t(lamb,T-tk[k])\n",
    "        beta_T_tk = beta(T-tk[k])\n",
    "\n",
    "        lamb_T_tk_12 = lamb_Sigma_t(lamb,T-tk[k]-Delta_t/2)\n",
    "        beta_T_tk_12 = beta(T-tk[k]-Delta_t/2)\n",
    "\n",
    "        lamb_T_tk_1 =  lamb_Sigma_t(lamb,T-tk[k+1])\n",
    "        beta_T_tk_1 = beta(T-tk[k+1])\n",
    "\n",
    "        C1 = (beta_T_tk*(1-1/lamb_T_tk))\n",
    "        C2 = (beta_T_tk_12*(1-1/lamb_T_tk_12))*(1+Delta_t/2*C1)\n",
    "        C3 = (beta_T_tk_12*(1-1/lamb_T_tk_12))*(1+Delta_t/2*C2)\n",
    "        C4 = (beta_T_tk_1*(1-1/lamb_T_tk_1))*(1+Delta_t*C3)\n",
    "\n",
    "\n",
    "        lamb_RK4 = (1+Delta_t/6*(C1+2*C2+2*C3+C4))**2*lamb_RK4\n",
    "\n",
    "        if all_t :\n",
    "            W2_RK4_list.append(W2(lamb_RK4,lamb_T_tk_1 ))\n",
    "\n",
    "    if all_t :\n",
    "        W2_RK4_list.reverse()\n",
    "\n",
    "        return W2_RK4_list\n",
    "\n",
    "    else :\n",
    "\n",
    "        return W2(lamb_RK4,lamb)"
   ]
  },
  {
   "cell_type": "markdown",
   "id": "0632ee57",
   "metadata": {
    "id": "0632ee57"
   },
   "source": [
    "# Error graphs"
   ]
  },
  {
   "cell_type": "markdown",
   "id": "5ee4cbb6",
   "metadata": {
    "id": "5ee4cbb6"
   },
   "source": [
    "Bellow, the code to plot the Figure 1 of [ [ 1 ] ](#ref1) showing the Wasserstein value of the discretization, the initialization along the time and the truncation error."
   ]
  },
  {
   "cell_type": "markdown",
   "id": "2fe2bf20",
   "metadata": {
    "id": "2fe2bf20"
   },
   "source": [
    "### Discretization and initialization"
   ]
  },
  {
   "cell_type": "code",
   "execution_count": 17,
   "id": "940e1ac0",
   "metadata": {
    "colab": {
     "base_uri": "https://localhost:8080/",
     "height": 450
    },
    "id": "940e1ac0",
    "outputId": "0f4774a1-a608-483f-9284-39a7329ec9af"
   },
   "outputs": [
    {
     "name": "stderr",
     "output_type": "stream",
     "text": [
      "<>:29: SyntaxWarning: invalid escape sequence '\\m'\n",
      "<>:29: SyntaxWarning: invalid escape sequence '\\m'\n",
      "/var/folders/59/32mlzt9101s96_s3bpqbffvr0000gp/T/ipykernel_13974/1734703716.py:29: SyntaxWarning: invalid escape sequence '\\m'\n",
      "  plt.ylabel('$\\mathbf{W}_2(\\cdot,p_t)$')\n",
      "/var/folders/59/32mlzt9101s96_s3bpqbffvr0000gp/T/ipykernel_13974/1759821661.py:23: RuntimeWarning: divide by zero encountered in divide\n",
      "  lamb_Heun =(1+ Delta_t/2*beta_T_tk*(1-1/lamb_T_tk)+Delta_t/2*beta_T_tk_1*(1-1/lamb_T_tk_1)*(1+Delta_t*beta_T_tk*(1-1/lamb_T_tk)))**2*lamb_Heun\n",
      "/var/folders/59/32mlzt9101s96_s3bpqbffvr0000gp/T/ipykernel_13974/3829869998.py:28: RuntimeWarning: divide by zero encountered in divide\n",
      "  C4 = (beta_T_tk_1*(1-1/lamb_T_tk_1))*(1+Delta_t*C3)\n"
     ]
    },
    {
     "data": {
      "text/plain": [
       "<matplotlib.legend.Legend at 0x10e3a77a0>"
      ]
     },
     "execution_count": 17,
     "metadata": {},
     "output_type": "execute_result"
    },
    {
     "data": {
      "image/png": "[encoded data removed]",
      "text/plain": [
       "<Figure size 640x480 with 1 Axes>"
      ]
     },
     "metadata": {},
     "output_type": "display_data"
    }
   ],
   "source": [
    "T = 1\n",
    "NFE = 1000\n",
    "tk = np.array([T*k/(NFE-1) for k in range(NFE)])\n",
    "tk_Heun = np.array([T*k/(NFE//2-1) for k in range(NFE//2)])\n",
    "tk_RK4 = np.array([T*k/(NFE//4-1) for k in range(NFE//4)])\n",
    "\n",
    "\n",
    "W2_SDE = [W2(lamb_SDE_t(lamb,T-t),lamb_Sigma_t(lamb,T-t)) for t in tk]\n",
    "W2_SDE.reverse()\n",
    "W2_ODE = [W2(lamb_ODE_t(lamb,T-t),lamb_Sigma_t(lamb,T-t)) for t in tk]\n",
    "W2_ODE.reverse()\n",
    "\n",
    "\n",
    "das = (3,2)\n",
    "#das_RK4 = (3,4)\n",
    "plt.semilogy(tk,W2_SDE,'-',label='SDE',color='tab:purple')\n",
    "plt.semilogy(tk,W2_ODE,'-',label='ODE',color='k',lw=2)\n",
    "\n",
    "plt.semilogy(tk,W2_EM(NFE,lamb),'--',label='EM',dashes=das,color='C0')\n",
    "plt.semilogy(tk,W2_Euler(NFE,lamb),'--',label='Euler',dashes=das,color='gold')\n",
    "\n",
    "plt.semilogy(tk,W2_EI(NFE,lamb),'--',label='EI',dashes=das,color='tab:green')\n",
    "plt.semilogy(tk_Heun,W2_Heun(NFE//2,lamb),'--',label='Heun',dashes=(4,2),color='tab:orange',lw=2)\n",
    "\n",
    "plt.semilogy(tk,W2_DDPM(NFE,lamb),'--',label='DDPM',dashes=das,color='pink')\n",
    "plt.semilogy(tk_RK4,W2_RK4(NFE//4,lamb),':',label='RK4',color='tab:red',lw=4)\n",
    "\n",
    "\n",
    "plt.ylabel('$\\mathbf{W}_2(\\cdot,p_t)$')\n",
    "axes = plt.gca()\n",
    "axes.xaxis.set_ticks([0,0.2,0.4,0.6,0.8,1.0])\n",
    "axes.xaxis.set_ticklabels([\"0\",\"0.2\",\"0.4\",\"0.6\",\"0.8\",r\"$\\mathrm{T} = 1$\"])\n",
    "axes.minorticks_off()\n",
    "plt.xlabel('Time $t$')\n",
    "\n",
    "\n",
    "plt.legend(loc ='upper left' ,ncol=4,fontsize='small')\n",
    "\n",
    "\n",
    "\n",
    "#plt.savefig(PATH_output+'discretization_initialization_error.pdf', bbox_inches='tight', dpi=100)"
   ]
  },
  {
   "cell_type": "markdown",
   "id": "1c1b56f9",
   "metadata": {
    "id": "1c1b56f9"
   },
   "source": [
    "### Truncation"
   ]
  },
  {
   "cell_type": "code",
   "execution_count": 18,
   "id": "1633f266",
   "metadata": {
    "id": "1633f266"
   },
   "outputs": [
    {
     "name": "stderr",
     "output_type": "stream",
     "text": [
      "/var/folders/59/32mlzt9101s96_s3bpqbffvr0000gp/T/ipykernel_13974/1759821661.py:23: RuntimeWarning: divide by zero encountered in divide\n",
      "  lamb_Heun =(1+ Delta_t/2*beta_T_tk*(1-1/lamb_T_tk)+Delta_t/2*beta_T_tk_1*(1-1/lamb_T_tk_1)*(1+Delta_t*beta_T_tk*(1-1/lamb_T_tk)))**2*lamb_Heun\n",
      "/var/folders/59/32mlzt9101s96_s3bpqbffvr0000gp/T/ipykernel_13974/3829869998.py:28: RuntimeWarning: divide by zero encountered in divide\n",
      "  C4 = (beta_T_tk_1*(1-1/lamb_T_tk_1))*(1+Delta_t*C3)\n"
     ]
    }
   ],
   "source": [
    "eps_list_graph = [0,10**-5,10**-4,10**-3,10**-2]\n",
    "\n",
    "W2_eps_EM = []\n",
    "W2_eps_EI = []\n",
    "W2_eps_Euler = []\n",
    "W2_eps_Heun = []\n",
    "W2_eps_DDPM = []\n",
    "W2_eps_RK4 = []\n",
    "W2_eps_SDE = []\n",
    "W2_eps_ODE = []\n",
    "\n",
    "NFE = 1000\n",
    "\n",
    "eps_list_graph = [0,10**-5,10**-4,10**-3,10**-2]\n",
    "for t_eps in eps_list_graph :\n",
    "    W2_eps_EM.append(W2_EM(NFE,lamb,t_eps,all_t=False))\n",
    "    W2_eps_EI.append(W2_EI(NFE,lamb,t_eps,all_t=False))\n",
    "    W2_eps_DDPM.append(W2_DDPM(NFE,lamb,t_eps,all_t=False))\n",
    "    W2_eps_Euler.append(W2_Euler(NFE,lamb,t_eps,all_t=False))\n",
    "    W2_eps_Heun.append(W2_Heun(NFE//2,lamb,t_eps,all_t=False))\n",
    "    W2_eps_RK4.append(W2_RK4(NFE//4,lamb,t_eps,all_t=False))\n",
    "    W2_eps_SDE.append(W2(lamb_SDE_t(lamb,t_eps),lamb_Sigma_t(lamb,0)))\n",
    "    W2_eps_ODE.append(W2(lamb_ODE_t(lamb,t_eps),lamb_Sigma_t(lamb,0)))"
   ]
  },
  {
   "cell_type": "code",
   "execution_count": 19,
   "id": "21f4d042",
   "metadata": {
    "colab": {
     "base_uri": "https://localhost:8080/",
     "height": 467
    },
    "id": "21f4d042",
    "outputId": "feb30738-cabc-4021-c28f-cad74a6db06c"
   },
   "outputs": [
    {
     "name": "stderr",
     "output_type": "stream",
     "text": [
      "<>:26: SyntaxWarning: invalid escape sequence '\\m'\n",
      "<>:26: SyntaxWarning: invalid escape sequence '\\m'\n",
      "/var/folders/59/32mlzt9101s96_s3bpqbffvr0000gp/T/ipykernel_13974/1021798109.py:26: SyntaxWarning: invalid escape sequence '\\m'\n",
      "  plt.ylabel('$\\mathbf{W}_2(\\cdot,p_0)$')\n"
     ]
    },
    {
     "data": {
      "text/plain": [
       "<matplotlib.legend.Legend at 0x10e56b4d0>"
      ]
     },
     "execution_count": 19,
     "metadata": {},
     "output_type": "execute_result"
    },
    {
     "data": {
      "image/png": "[encoded data removed]",
      "text/plain": [
       "<Figure size 640x480 with 1 Axes>"
      ]
     },
     "metadata": {},
     "output_type": "display_data"
    }
   ],
   "source": [
    "plt.figure()\n",
    "\n",
    "T_eps_plot = [10**-6,10**-5,10**-4,10**-3,10**-2]\n",
    "#The 'zero eps' is plotted at 10**-6 to enable the loglog setting\n",
    "\n",
    "\n",
    "das = (3,2)\n",
    "plt.loglog(T_eps_plot,W2_eps_SDE,'-x',label='SDE',color='tab:purple')\n",
    "plt.loglog(T_eps_plot,W2_eps_ODE,'-x',label='ODE',color='k')\n",
    "\n",
    "plt.loglog(T_eps_plot,W2_eps_EM,'--x',label='EM',dashes=das,color='C0')\n",
    "plt.loglog(T_eps_plot,W2_eps_Euler,'--x',label='Euler',dashes=das,color='gold')\n",
    "\n",
    "plt.loglog(T_eps_plot,W2_eps_EI,'--x',label='EI',dashes=das,color='tab:green')\n",
    "plt.loglog(T_eps_plot,W2_eps_Heun,'--x',label='Heun',dashes=(4,2),color='tab:orange',lw=2)\n",
    "\n",
    "plt.loglog(T_eps_plot,W2_eps_DDPM,'--x',label='DDPM',dashes=das,color='pink')\n",
    "plt.loglog(T_eps_plot,W2_eps_RK4,':x',label='RK4',color='tab:red',lw=4)\n",
    "\n",
    "#plt.legend()\n",
    "axes = plt.gca()\n",
    "axes.xaxis.set_ticks(T_eps_plot)\n",
    "axes.xaxis.set_ticklabels(['0','$10^{-5}$','$10^{-4}$','$10^{-3}$','$10^{-2}$'])\n",
    "axes.minorticks_off()\n",
    "\n",
    "plt.ylabel('$\\mathbf{W}_2(\\cdot,p_0)$')\n",
    "\n",
    "plt.xlabel(r'Truncation time $\\varepsilon$')\n",
    "\n",
    "\n",
    "plt.legend(loc ='lower left' ,ncol=4,fontsize='small')\n",
    "\n",
    "#plt.savefig(PATH_output+'truncation_error.pdf', bbox_inches='tight', dpi=100)"
   ]
  },
  {
   "cell_type": "markdown",
   "id": "cf59f897",
   "metadata": {
    "id": "cf59f897"
   },
   "source": [
    "## Two graphs with the same scale"
   ]
  },
  {
   "cell_type": "code",
   "execution_count": 20,
   "id": "cc983784",
   "metadata": {
    "colab": {
     "base_uri": "https://localhost:8080/",
     "height": 406
    },
    "id": "cc983784",
    "outputId": "e45d0576-866f-46d3-887f-2311b90aa8e0"
   },
   "outputs": [
    {
     "name": "stderr",
     "output_type": "stream",
     "text": [
      "<>:18: SyntaxWarning: invalid escape sequence '\\m'\n",
      "<>:54: SyntaxWarning: invalid escape sequence '\\m'\n",
      "<>:18: SyntaxWarning: invalid escape sequence '\\m'\n",
      "<>:54: SyntaxWarning: invalid escape sequence '\\m'\n",
      "/var/folders/59/32mlzt9101s96_s3bpqbffvr0000gp/T/ipykernel_13974/3559415306.py:18: SyntaxWarning: invalid escape sequence '\\m'\n",
      "  plt.ylabel('$\\mathbf{W}_2(\\cdot,p_t)$')\n",
      "/var/folders/59/32mlzt9101s96_s3bpqbffvr0000gp/T/ipykernel_13974/3559415306.py:54: SyntaxWarning: invalid escape sequence '\\m'\n",
      "  plt.ylabel('$\\mathbf{W}_2(\\cdot,p_0)$')\n",
      "/var/folders/59/32mlzt9101s96_s3bpqbffvr0000gp/T/ipykernel_13974/1759821661.py:23: RuntimeWarning: divide by zero encountered in divide\n",
      "  lamb_Heun =(1+ Delta_t/2*beta_T_tk*(1-1/lamb_T_tk)+Delta_t/2*beta_T_tk_1*(1-1/lamb_T_tk_1)*(1+Delta_t*beta_T_tk*(1-1/lamb_T_tk)))**2*lamb_Heun\n",
      "/var/folders/59/32mlzt9101s96_s3bpqbffvr0000gp/T/ipykernel_13974/3829869998.py:28: RuntimeWarning: divide by zero encountered in divide\n",
      "  C4 = (beta_T_tk_1*(1-1/lamb_T_tk_1))*(1+Delta_t*C3)\n"
     ]
    },
    {
     "data": {
      "image/png": "[encoded data removed]",
      "text/plain": [
       "<Figure size 1000x400 with 2 Axes>"
      ]
     },
     "metadata": {},
     "output_type": "display_data"
    }
   ],
   "source": [
    "plt.figure(figsize=(10,4))\n",
    "plt.subplot(1,2,1)\n",
    "\n",
    "\n",
    "das = (3,2)\n",
    "plt.semilogy(tk,W2_SDE,'-',label='SDE',color='tab:purple')\n",
    "plt.semilogy(tk,W2_ODE,'-',label='ODE',color='k')\n",
    "\n",
    "plt.semilogy(tk,W2_EM(NFE,lamb),'--',label='EM',dashes=das,color='C0')\n",
    "plt.semilogy(tk,W2_Euler(NFE,lamb),'--',label='Euler',dashes=das,color='gold')\n",
    "\n",
    "plt.semilogy(tk,W2_EI(NFE,lamb),'--',label='EI',dashes=das,color='tab:green')\n",
    "plt.semilogy(tk_Heun,W2_Heun(NFE//2,lamb),'--',label='Heun',dashes=(4,2),color='tab:orange',lw=2)\n",
    "\n",
    "plt.semilogy(tk,W2_DDPM(NFE,lamb),'--',label='DDPM',dashes=das,color='pink')\n",
    "plt.semilogy(tk_RK4,W2_RK4(NFE//4,lamb),':',label='RK4',color='tab:red',lw=4)\n",
    "\n",
    "plt.ylabel('$\\mathbf{W}_2(\\cdot,p_t)$')\n",
    "axes = plt.gca()\n",
    "axes.xaxis.set_ticks([0,0.2,0.4,0.6,0.8,1.0])\n",
    "axes.xaxis.set_ticklabels([\"0\",\"0.2\",\"0.4\",\"0.6\",\"0.8\",r\"$\\mathrm{T} = 1$\"])\n",
    "\n",
    "plt.xlabel('Time $t$')\n",
    "\n",
    "\n",
    "plt.legend( ncol=4,fontsize='x-small')\n",
    "\n",
    "plt.subplot(1,2,2,sharey=axes)\n",
    "\n",
    "T_eps_plot = [10**-6,10**-5,10**-4,10**-3,10**-2]\n",
    "\n",
    "\n",
    "\n",
    "das = (3,2)\n",
    "\n",
    "plt.loglog(T_eps_plot,W2_eps_SDE,'-x',label='SDE',color='tab:purple')\n",
    "plt.loglog(T_eps_plot,W2_eps_ODE,'-x',label='ODE',color='k')\n",
    "\n",
    "plt.loglog(T_eps_plot,W2_eps_EM,'--x',label='EM',dashes=das,color='C0')\n",
    "plt.loglog(T_eps_plot,W2_eps_Euler,'--x',label='Euler',dashes=das,color='gold')\n",
    "\n",
    "\n",
    "plt.loglog(T_eps_plot,W2_eps_EI,'--x',label='EI',dashes=das,color='tab:green')\n",
    "plt.loglog(T_eps_plot,W2_eps_Heun,'--x',label='Heun',dashes=(4,2),color='tab:orange',lw=2)\n",
    "\n",
    "plt.loglog(T_eps_plot,W2_eps_DDPM,'--x',label='DDPM',dashes=das,color='pink')\n",
    "plt.loglog(T_eps_plot,W2_eps_RK4,':x',label='RK4',color='tab:red',lw=4)\n",
    "\n",
    "\n",
    "axes = plt.gca()\n",
    "axes.xaxis.set_ticks(T_eps_plot)\n",
    "axes.xaxis.set_ticklabels(['0','$10^{-5}$','$10^{-4}$','$10^{-3}$','$10^{-2}$'])\n",
    "axes.minorticks_off()\n",
    "plt.ylabel('$\\mathbf{W}_2(\\cdot,p_0)$')\n",
    "\n",
    "plt.xlabel(r'Truncation time $\\varepsilon$')\n",
    "\n",
    "plt.legend(ncol=4,fontsize='x-small')\n",
    "\n",
    "axes_eps =  plt.gca()\n",
    "\n",
    "#plt.savefig(PATH_output+'truncation_discretization_initialization.pdf', bbox_inches='tight', dpi=100)"
   ]
  },
  {
   "cell_type": "markdown",
   "id": "dc74a85b",
   "metadata": {
    "id": "dc74a85b"
   },
   "source": [
    "# Ablation study table"
   ]
  },
  {
   "cell_type": "markdown",
   "id": "72da9e33",
   "metadata": {
    "id": "72da9e33"
   },
   "source": [
    "The following code displays the table corresponding to Table 2 of [ [ 1 ] ](#ref1)."
   ]
  },
  {
   "cell_type": "code",
   "execution_count": 21,
   "id": "32829f90",
   "metadata": {
    "id": "32829f90"
   },
   "outputs": [
    {
     "name": "stderr",
     "output_type": "stream",
     "text": [
      "/var/folders/59/32mlzt9101s96_s3bpqbffvr0000gp/T/ipykernel_13974/1759821661.py:23: RuntimeWarning: divide by zero encountered in divide\n",
      "  lamb_Heun =(1+ Delta_t/2*beta_T_tk*(1-1/lamb_T_tk)+Delta_t/2*beta_T_tk_1*(1-1/lamb_T_tk_1)*(1+Delta_t*beta_T_tk*(1-1/lamb_T_tk)))**2*lamb_Heun\n",
      "/var/folders/59/32mlzt9101s96_s3bpqbffvr0000gp/T/ipykernel_13974/3829869998.py:28: RuntimeWarning: divide by zero encountered in divide\n",
      "  C4 = (beta_T_tk_1*(1-1/lamb_T_tk_1))*(1+Delta_t*C3)\n"
     ]
    }
   ],
   "source": [
    "NFE_list = [50,250,500,1000] #500\n",
    "eps_list = [0., 10**-5,10**-4,10**-3]\n",
    "P_T = [True,False]\n",
    "schemes_list = ['EM','EI','DDPM','Euler','Heun','RK4']\n",
    "\n",
    "\n",
    "W2_dict = {scheme: {str(p_T):{} for p_T in P_T } for scheme in schemes_list}\n",
    "W2_dict['SDE'] =  {str(p_T):{} for p_T in P_T }\n",
    "W2_dict['ODE'] = {str(p_T):{} for p_T in P_T }\n",
    "#Continuous integration\n",
    "\n",
    "\n",
    "for scheme in ['SDE','ODE'] :\n",
    "    if scheme == 'SDE' :\n",
    "        lamb_funct = lamb_SDE_t\n",
    "    elif scheme == 'ODE' :\n",
    "        lamb_funct = lamb_ODE_t\n",
    "    for t_eps in eps_list :\n",
    "        W2_dict[scheme]['False'][str(t_eps)] = W2(lamb_funct(lamb,t_eps),lamb_Sigma_t(lamb,0))\n",
    "        W2_dict[scheme]['True'][str(t_eps)] = W2(lamb_Sigma_t(lamb,t_eps),lamb_Sigma_t(lamb,0))\n",
    "\n",
    "\n",
    "for scheme in schemes_list :\n",
    "\n",
    "    if scheme == 'EM' :\n",
    "            W2_funct = W2_EM\n",
    "    elif scheme == 'EI' :\n",
    "            W2_funct = W2_EI\n",
    "    elif scheme == 'DDPM' :\n",
    "            W2_funct = W2_DDPM\n",
    "    elif scheme == 'Euler' :\n",
    "            W2_funct = W2_Euler\n",
    "    elif scheme == 'Heun' :\n",
    "            W2_funct = W2_Heun\n",
    "    elif scheme == 'RK4' :\n",
    "            W2_funct = W2_RK4\n",
    "    for p_T in P_T :\n",
    "        for NFE in NFE_list :\n",
    "            W2_dict[scheme][str(p_T)][str(NFE)] = {}\n",
    "            for t_eps in eps_list :\n",
    "                if scheme == 'Heun' :\n",
    "                    W2_dict[scheme][str(p_T)][str(NFE)][str(t_eps)] = W2_funct(NFE//2,lamb,t_eps=t_eps,p_T = p_T ,all_t=False)\n",
    "                if scheme == 'RK4' :\n",
    "                    W2_dict[scheme][str(p_T)][str(NFE)][str(t_eps)] = W2_funct(NFE//4,lamb,t_eps=t_eps,p_T = p_T ,all_t=False)\n",
    "                else  :\n",
    "                    W2_dict[scheme][str(p_T)][str(NFE)][str(t_eps)] = W2_funct(NFE,lamb,t_eps=t_eps,p_T = p_T ,all_t=False)"
   ]
  },
  {
   "cell_type": "markdown",
   "id": "e3bc9e4d",
   "metadata": {
    "id": "e3bc9e4d"
   },
   "source": [
    "### Markdown table"
   ]
  },
  {
   "cell_type": "markdown",
   "id": "228e7b63",
   "metadata": {
    "id": "228e7b63"
   },
   "source": [
    "In the following, the table is displayed in the notebook via Markdown."
   ]
  },
  {
   "cell_type": "code",
   "execution_count": 22,
   "id": "adef2818",
   "metadata": {
    "id": "adef2818"
   },
   "outputs": [],
   "source": [
    "def formatting_number(x) :\n",
    "    if x == 0 :\n",
    "        str_x = '0'\n",
    "    elif x == np.inf :\n",
    "        str_x = '-'\n",
    "    elif np.log10(x).is_integer() :\n",
    "        str_x = '10^{'+str(int(np.log10(x)))+'}'\n",
    "    elif  x > 10**2 :\n",
    "        str_x = '{:1.1E}'.format(x)\n",
    "    elif x < 10**-2 :\n",
    "        str_x =  '{:1.1E}'.format(x)\n",
    "    else :\n",
    "        str_x =  '{:1.2f}'.format(x)\n",
    "    return str_x"
   ]
  },
  {
   "cell_type": "code",
   "execution_count": 23,
   "id": "nZ_S9F5vJBbQ",
   "metadata": {
    "colab": {
     "base_uri": "https://localhost:8080/",
     "height": 644
    },
    "id": "nZ_S9F5vJBbQ",
    "outputId": "06f3bd0e-a1e7-4827-ab30-66975cd74616"
   },
   "outputs": [
    {
     "name": "stderr",
     "output_type": "stream",
     "text": [
      "<>:15: SyntaxWarning: invalid escape sequence '\\m'\n",
      "<>:17: SyntaxWarning: invalid escape sequence '\\m'\n",
      "<>:15: SyntaxWarning: invalid escape sequence '\\m'\n",
      "<>:17: SyntaxWarning: invalid escape sequence '\\m'\n",
      "/var/folders/59/32mlzt9101s96_s3bpqbffvr0000gp/T/ipykernel_13974/4277285642.py:15: SyntaxWarning: invalid escape sequence '\\m'\n",
      "  table_Markdown += '|||$p_T$|$\\mathcal{N}_0$|'\n",
      "/var/folders/59/32mlzt9101s96_s3bpqbffvr0000gp/T/ipykernel_13974/4277285642.py:17: SyntaxWarning: invalid escape sequence '\\m'\n",
      "  table_Markdown += '$p_T$|$\\mathcal{N}_0$|'\n"
     ]
    },
    {
     "data": {
      "text/markdown": [
       "||| Continuous||  NFE =  50||  NFE =  250||  NFE =  500||  NFE =  1000||\n",
       "|:---:|:---:|:---:|:---:|:---:|:---:|:---:|:---:|:---:|:---:|:---:|:---:|\n",
       "|||$p_T$|$\\mathcal{N}_0$|$p_T$|$\\mathcal{N}_0$|$p_T$|$\\mathcal{N}_0$|$p_T$|$\\mathcal{N}_0$|$p_T$|$\\mathcal{N}_0$|\n",
       "|EM|$\\varepsilon = 0$|0|6.7E-04|4.78|4.78|0.65|0.66|0.32|0.32|0.16|0.16|\n",
       "||$\\varepsilon = 10^{-5}$|4.1E-03|4.2E-03|4.77|4.77|0.66|0.66|0.32|0.32|0.16|0.16|\n",
       "||$\\varepsilon = 10^{-4}$|0.03|0.03|4.76|4.76|0.66|0.66|0.32|0.32|0.17|0.17|\n",
       "||$\\varepsilon = 10^{-3}$|0.18|0.18|4.68|4.68|0.70|0.70|0.40|0.40|0.27|0.27|\n",
       "|EI|$\\varepsilon = 0$|0|6.7E-04|2.81|2.81|0.57|0.57|0.30|0.30|0.16|0.16|\n",
       "||$\\varepsilon = 10^{-5}$|4.1E-03|4.2E-03|2.81|2.81|0.57|0.57|0.30|0.30|0.16|0.16|\n",
       "||$\\varepsilon = 10^{-4}$|0.03|0.03|2.82|2.82|0.58|0.58|0.31|0.31|0.17|0.17|\n",
       "||$\\varepsilon = 10^{-3}$|0.18|0.18|2.91|2.91|0.67|0.67|0.41|0.41|0.29|0.29|\n",
       "|DDPM|$\\varepsilon = 0$|0|6.7E-04|6.82|6.82|0.97|0.97|0.47|0.47|0.23|0.23|\n",
       "||$\\varepsilon = 10^{-5}$|4.1E-03|4.2E-03|6.82|6.82|0.97|0.97|0.47|0.47|0.24|0.23|\n",
       "||$\\varepsilon = 10^{-4}$|0.03|0.03|6.81|6.81|0.98|0.98|0.47|0.47|0.24|0.24|\n",
       "||$\\varepsilon = 10^{-3}$|0.18|0.18|6.74|6.74|1.00|1.00|0.53|0.53|0.32|0.32|\n",
       "|Euler|$\\varepsilon = 0$|0|0.07|1.72|1.78|0.38|0.44|0.20|0.26|0.10|0.17|\n",
       "||$\\varepsilon = 10^{-5}$|4.1E-03|0.07|1.72|1.78|0.38|0.44|0.20|0.26|0.10|0.17|\n",
       "||$\\varepsilon = 10^{-4}$|0.03|0.08|1.72|1.78|0.38|0.44|0.20|0.26|0.11|0.17|\n",
       "||$\\varepsilon = 10^{-3}$|0.18|0.19|1.73|1.79|0.42|0.48|0.27|0.32|0.21|0.25|\n",
       "|Heun|$\\varepsilon = 0$|0|0.07|-|-|-|-|-|-|-|-|\n",
       "||$\\varepsilon = 10^{-5}$|4.1E-03|0.07|23.42|23.42|2.86|2.87|1.05|1.06|0.37|0.38|\n",
       "||$\\varepsilon = 10^{-4}$|0.03|0.08|4.68|4.68|0.43|0.44|0.12|0.14|0.03|0.08|\n",
       "||$\\varepsilon = 10^{-3}$|0.18|0.19|0.58|0.59|0.13|0.15|0.16|0.18|0.17|0.19|\n",
       "|RK4|$\\varepsilon = 0$|0|0.07|-|-|-|-|-|-|-|-|\n",
       "||$\\varepsilon = 10^{-5}$|4.1E-03|0.07|67.32|67.32|5.49|5.49|2.11|2.11|0.77|0.77|\n",
       "||$\\varepsilon = 10^{-4}$|0.03|0.08|14.35|14.35|0.93|0.93|0.29|0.29|0.07|0.10|\n",
       "||$\\varepsilon = 10^{-3}$|0.18|0.19|2.60|2.60|0.09|0.12|0.15|0.17|0.17|0.19|\n"
      ],
      "text/plain": [
       "<IPython.core.display.Markdown object>"
      ]
     },
     "execution_count": 23,
     "metadata": {},
     "output_type": "execute_result"
    }
   ],
   "source": [
    "table_Markdown = '|||'\n",
    "table_Markdown += ' Continuous||'\n",
    "\n",
    "for NFE in NFE_list :\n",
    "    table_Markdown += '  NFE =  ' +str(NFE)+'||'\n",
    "\n",
    "table_Markdown += '\\n'\n",
    "\n",
    "table_Markdown += '|:---:|:---:|:---:|:---:|'\n",
    "for NFE in NFE_list :\n",
    "    table_Markdown += ':---:|:---:|'\n",
    "\n",
    "table_Markdown += '\\n'\n",
    "\n",
    "table_Markdown += '|||$p_T$|$\\mathcal{N}_0$|'\n",
    "for NFE in NFE_list :\n",
    "    table_Markdown += '$p_T$|$\\mathcal{N}_0$|'\n",
    "\n",
    "table_Markdown += '\\n'\n",
    "\n",
    "\n",
    "for scheme in schemes_list :\n",
    "    table_Markdown += '|'+scheme+'|'\n",
    "    for t_eps in eps_list :\n",
    "        if t_eps != eps_list[0] :\n",
    "          table_Markdown += '||'\n",
    "        table_Markdown += r'$\\varepsilon = '+formatting_number(t_eps)+'$|'\n",
    "        if scheme in ['EM','EI','DDPM'] :\n",
    "            table_Markdown += formatting_number(W2_dict['SDE']['True'][str(t_eps)])+'|'\n",
    "            table_Markdown += formatting_number(W2_dict['SDE']['False'][str(t_eps)])+'|'\n",
    "        if scheme in ['Euler','Heun','RK4'] :\n",
    "            table_Markdown += formatting_number(W2_dict['ODE']['True'][str(t_eps)])+'|'\n",
    "            table_Markdown += formatting_number(W2_dict['ODE']['False'][str(t_eps)])+'|'\n",
    "        for NFE in NFE_list :\n",
    "          table_Markdown += formatting_number(W2_dict[scheme]['True'][str(NFE)][str(t_eps)])+'|'\n",
    "          table_Markdown += formatting_number(W2_dict[scheme]['False'][str(NFE)][str(t_eps)])+'|'\n",
    "        table_Markdown += '\\n'\n",
    "\n",
    "\n",
    "\n",
    "Markdown(table_Markdown)"
   ]
  },
  {
   "cell_type": "markdown",
   "id": "1f55b5b2",
   "metadata": {
    "id": "1f55b5b2"
   },
   "source": [
    "### Tex table"
   ]
  },
  {
   "cell_type": "markdown",
   "id": "248770da",
   "metadata": {
    "id": "248770da"
   },
   "source": [
    "In the following, a table.tex is created and compiled (if pdflatex is available) to obtain Table 2 of [ [ 1 ] ](#ref1)."
   ]
  },
  {
   "cell_type": "code",
   "execution_count": null,
   "id": "63484109",
   "metadata": {
    "colab": {
     "base_uri": "https://localhost:8080/"
    },
    "id": "63484109",
    "outputId": "c55eadbf-0bc0-4fa5-c294-3c3720b39c39",
    "scrolled": true
   },
   "outputs": [],
   "source": [
    "output_tex = PATH_output + 'table.tex'\n",
    "\n",
    "#preamble\n",
    "table_tex  = r'\\documentclass{article}' + '\\n'\n",
    "table_tex  += '\\n'\n",
    "table_tex  += r'\\usepackage{booktabs}' + '\\n'\n",
    "table_tex  += r'\\usepackage{multirow}' + '\\n'\n",
    "table_tex  += r'\\usepackage{graphicx}' + '\\n'\n",
    "table_tex  +='\\n'\n",
    "table_tex  += r'\\begin{document}' + '\\n'\n",
    "table_tex  +='\\n'\n",
    "#Table\n",
    "table_tex  += r'\\begin{table}' + '\\n'\n",
    "table_tex += r'\\centering' + '\\n'\n",
    "table_tex += r'\\begin{tabular}{'\n",
    "table_tex += 'l'*(len(NFE_list)*len(P_T)+4) + '} \\n'\n",
    "table_tex += r'\\toprule' + '\\n'\n",
    "\n",
    "table_tex += r'&'\n",
    "table_tex += r' &\\multicolumn{2}{c}{Continuous}' + '\\n'\n",
    "\n",
    "for NFE in NFE_list :\n",
    "    table_tex += r'& \\multicolumn{2}{c}{NFE = $'+str(NFE)+ r'$}' + '\\n'\n",
    "\n",
    "table_tex += r'\\\\' +'\\n'\n",
    "\n",
    "for k in range(2,len(NFE_list)*len(P_T)+4,2) :\n",
    "    table_tex += r'\\cmidrule(lr){'+str(k+1) +'-'+str(k+2)+ r'}' + '\\n'\n",
    "\n",
    "table_tex += r'& &$p_T$ & $\\mathcal{N}_0$ & ' + '\\n'\n",
    "for NFE in NFE_list :\n",
    "    if NFE == NFE_list[-1] :\n",
    "        table_tex += r'$p_T$ & $\\mathcal{N}_0$ \\\\' + '\\n'\n",
    "    else :\n",
    "        table_tex += r'$p_T$ & $\\mathcal{N}_0$ &' + '\\n'\n",
    "\n",
    "table_tex += r'\\midrule' + '\\n'\n",
    "\n",
    "for scheme in schemes_list :\n",
    "    table_tex += r'\\parbox[t]{2mm}{\\multirow{4}{*}{\\rotatebox[origin=c]{90}{'+scheme+r'}}}' + '\\n'\n",
    "    #Continuous column\n",
    "    for t_eps in eps_list :\n",
    "        table_tex += r'& \\multicolumn{1}{|l}{$\\varepsilon = '+formatting_number(t_eps)+'$}\\n'\n",
    "\n",
    "        if scheme in ['EM'] :\n",
    "            table_tex += ' & '+formatting_number(W2_dict['SDE']['True'][str(t_eps)])+'\\n'\n",
    "            table_tex += ' & '+formatting_number(W2_dict['SDE']['False'][str(t_eps)])+'\\n'\n",
    "        elif scheme in ['Euler'] :\n",
    "            table_tex += ' & '+formatting_number(W2_dict['ODE']['True'][str(t_eps)])+'\\n'\n",
    "            table_tex += ' & '+formatting_number(W2_dict['ODE']['False'][str(t_eps)])+'\\n'\n",
    "        else :\n",
    "            table_tex += '&&' + '\\n'\n",
    "        for NFE in NFE_list :\n",
    "            table_tex += ' & '+formatting_number(W2_dict[scheme]['True'][str(NFE)][str(t_eps)])+'\\n'\n",
    "            table_tex += ' & '+formatting_number(W2_dict[scheme]['False'][str(NFE)][str(t_eps)])+'\\n'\n",
    "        table_tex +=  r'\\\\' + '\\n'\n",
    "\n",
    "table_tex += r'\\bottomrule' + '\\n'\n",
    "table_tex += r'\\end{tabular}' + '\\n'\n",
    "table_tex += r'\\end{table}' + '\\n'\n",
    "\n",
    "table_tex += r'\\end{document}'\n",
    "\n",
    "if os.path.exists(output_tex) :\n",
    "    os.remove(output_tex)\n",
    "\n",
    "f = open(output_tex, \"a\")\n",
    "f.write(table_tex)\n",
    "f.close()"
   ]
  },
  {
   "cell_type": "markdown",
   "id": "55ecb89d",
   "metadata": {},
   "source": [
    "The following cell compiles the file .tex if latex is available."
   ]
  },
  {
   "cell_type": "code",
   "execution_count": null,
   "id": "edecf2b4",
   "metadata": {
    "scrolled": true
   },
   "outputs": [],
   "source": [
    "from distutils.spawn import find_executable\n",
    "if find_executable('latex'):\n",
    "    os.system('pdflatex -v '+output_tex)"
   ]
  },
  {
   "cell_type": "markdown",
   "id": "bd2c20ba",
   "metadata": {
    "id": "bd2c20ba"
   },
   "source": [
    "# Bibliography"
   ]
  },
  {
   "attachments": {},
   "cell_type": "markdown",
   "id": "f0f8833d",
   "metadata": {
    "id": "f0f8833d"
   },
   "source": [
    "<a id=\"ref1\"/>\n",
    "\n",
    "[1] [Emile Pierret, Bruno Galerne (2025). Diffusion models for Gaussian distributions: Exact solutions and Wasserstein errors. ICML](https://openreview.net/forum?id=bxYbxzCI2R&referrer=%5BAuthor%20Console%5D(%2Fgroup%3Fid%3DICML.cc%2F2025%2FConference%2FAuthors%23your-submissions))\n",
    "\n",
    "<a id=\"ref2\"/>\n",
    "\n",
    "[2] [Yang Song, Jascha Sohl-Dickstein, Diederik P. Kingma, Abhishek Kumar, Stefano Ermon, Ben Poole (2021). Score-Based Generative Modeling through Stochastic Differential Equations. ICLR](https://iclr.cc/virtual/2021/oral/3402)"
   ]
  }
 ],
 "metadata": {
  "colab": {
   "provenance": []
  },
  "kernelspec": {
   "display_name": "Python 3 (ipykernel)",
   "language": "python",
   "name": "python3"
  },
  "language_info": {
   "codemirror_mode": {
    "name": "ipython",
    "version": 3
   },
   "file_extension": ".py",
   "mimetype": "text/x-python",
   "name": "python",
   "nbconvert_exporter": "python",
   "pygments_lexer": "ipython3",
   "version": "3.12.7"
  }
 },
 "nbformat": 4,
 "nbformat_minor": 5
}
